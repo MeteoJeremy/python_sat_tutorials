{
 "cells": [
  {
   "cell_type": "markdown",
   "metadata": {},
   "source": [
    "# Chapter 4 - Python Tools \n",
    "\n",
    "<b>Objective:</b> Teaching Python concepts and functions for satellite data analysis. Main concepts: data structures and xarray function, and plotting"
   ]
  },
  {
   "cell_type": "code",
   "execution_count": null,
   "metadata": {},
   "outputs": [],
   "source": [
    "(data structures, xarray, matplotlib)\n",
    "sttart with data structurre schematics again\n",
    "numpy\n",
    "pandas - describe and point to references\n",
    "xarray\n",
    "basics, reading, exploring, creating, structure, important metthods and attributes\n",
    "create on, save, read, plott"
   ]
  }
 ],
 "metadata": {
  "kernelspec": {
   "display_name": "Python 3",
   "language": "python",
   "name": "python3"
  },
  "language_info": {
   "codemirror_mode": {
    "name": "ipython",
    "version": 3
   },
   "file_extension": ".py",
   "mimetype": "text/x-python",
   "name": "python",
   "nbconvert_exporter": "python",
   "pygments_lexer": "ipython3",
   "version": "3.7.6"
  }
 },
 "nbformat": 4,
 "nbformat_minor": 4
}
