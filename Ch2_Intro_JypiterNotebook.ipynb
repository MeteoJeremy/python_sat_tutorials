{
 "cells": [
  {
   "cell_type": "markdown",
   "metadata": {},
   "source": [
    "# Chapter 2 - Introduction to Jupyter Notebook\n",
    "In this tutorial we will use Jupyter Notebook as an interface for `Python`, therefore a quick intro is given.  If you know are familiar with Jupyter Notebook or Jupyter Lab you can skip this tutorial.  If you want to learn more, there are some useful resources at the bottom of this page.\n",
    "\n",
    "***"
   ]
  },
  {
   "cell_type": "markdown",
   "metadata": {},
   "source": [
    "## <font color=#d55121>What is Jupyter Notebook? </font> \n",
    "\n",
    "<img src='./figures/jupyter_logo.png' width=200>\n",
    "\n",
    "<font color=#31909f>__Jupyter__</font> is a project to develop open-source software, and <font color=#31909f>__Jupyter Notebook__</font> is their first web-based and user-friendly interface between Python and the user.  The new version is JupyterLab, but we will use Notebook as the `mybinder` projects uses it.\n",
    "\n",
    "<font color=#31909f>__Jupyter Notebook__</font> is more than interactive coding - meaning you write and execute part of your code and receive immediate response.\n",
    "\n",
    "Jupyter Notebook also allows you to add formated text, equations and figures - this let you keep code, info and results, including figures, neatly organized and visualize it in the same page. \n",
    "\n",
    "<img src='./figures/JupyterNotebook_example.png'>\n",
    "\n",
    "***"
   ]
  },
  {
   "cell_type": "markdown",
   "metadata": {},
   "source": [
    "## <font color=#d55121>Jupyter Notebook Elements</font>\n",
    "\n",
    "<font color=#31909f>__The dashboard:__</font> The main page you see in your browser when you open Jupyter Notebooks, and it list your files and directories. Clicking on a file will open it on a new tab. (__Note__ that Jupyter Notebook Python files have the extension .ipynb)\n",
    "\n",
    "<img src=\"./figures/Jupyter_Notebook_Dashboard.png\" width=700>\n",
    "\n",
    "<font color=#31909f>__Top menu:__</font> regular type menu, that contains all commands you need to work on Jupyter Notebook (we'll talk about the relevant ones below)\n",
    "\n",
    "<font color=#31909f>__The icon menu__</font> on top of your script. It provides quick access to commands \n",
    "\n",
    "<img src=\"./figures/Jupyter_Notebook_Menus.png\" width=800 align=\"center\">\n",
    "\n",
    "***"
   ]
  },
  {
   "cell_type": "markdown",
   "metadata": {},
   "source": [
    "## <font color=#d55121>The Basics</font>\n",
    "\n",
    "### <font color=#184d68>Cells</font>\n",
    "Scripts are divided into cells - code lines that are ran (executed) as a unit and will return the output or results from your code immediately. Cells are not independent of the rest: if you assigned or modified variables in a cell, you do have access to those in following cells.\n",
    "\n",
    "To run a cell you have few options:\n",
    "- Press __Shift-Return__ (run cell and move to the next one) or __Command-Return__ (run cell and stay in the current oone) \n",
    "- Click the Run __[>|]__ icon on the Icon menu\n",
    "- Go to the Top menu -> Cells -> Run Cells\n",
    "\n",
    "The selected cell is highlighted by a thick color side bar, and to edit the cell, you'll have to double click on it and a color outline will appear around the cell. \n",
    "\n",
    "<font color=#d55121>__Test this:__</font> Double click to enter the edit mode and then run the cell using of the options above.\n",
    "\n",
    "### <font color=#184d68>Types of cells: Code and Markdown</font>\n",
    "__Markdown cells__ contain formated text, like this cell, while __Code cells__ containe code to be executed and in many cases return an output. The text within a code cell shows different colors, depending of the function (operation, variable, etc).\n",
    "\n",
    "To change the type of cell:\n",
    "- On the Icon menu: the next to last element of this menu is a drop-down menu that shows the type and allows you to change it\n",
    "- Press __Esc__ and then __m__ (to change to markdown type) or __y__ (to change to code type)\n",
    "\n",
    "Pressing __Esc__ allows you access to keyboard commands (you can see them all from the Top Menu -> Help -> Keyboard Shortcuts).\n",
    "\n",
    "### <font color=#184d68>Copying-pasting, adding and deleting cells</font>\n",
    "When you run the last cell using __shift-return__, a new cell is added automoatically bellow, but sometimes we need to add a cell in between cells, delete one, or make a copy of the current one. For this, you have two options:\n",
    "\n",
    "- Click on the Top icon menu: __+__ for adding a cell, __scissors__ to cut, __( )__ to copy, and __clipboard__ to paste\n",
    "- Keyboard commands: press __Esc__ and then: __a__ or __b__ for inserting a cell (above or below), __d d__ to delete a cell, __c__ to copy, __x__ to cut, and __p__ to paste cell below. "
   ]
  },
  {
   "cell_type": "code",
   "execution_count": null,
   "metadata": {},
   "outputs": [],
   "source": [
    "## __Test  this:__\n",
    "### Change the type of this cell between __Markdown__ and __Code__, and then run it to see the difference\n",
    "myvar = 5+6\n",
    "print(myvar)"
   ]
  },
  {
   "cell_type": "markdown",
   "metadata": {},
   "source": [
    "***\n",
    "## <font color=#d55121>Housekeeping</font>\n",
    "### <font color=#184d68>Saving your work</font>\n",
    "If you're workinig on a binder in the cloud, you might want to save any file you modify locally for further reference. To do so, go to the Top Menu -> File -> Download as to make a local copy.\n",
    "\n",
    "### <font color=#184d68>The Kernel</font>\n",
    "\n",
    "Sometimes there is need to interrupt a running code or the kernel (the process, individual for each notebook, that is running your code) freezes. You'll need to restart the kernel (Top menu -> Kernel -> Restart) and then run all the cells again as it deletes all variables in memory.\n",
    "***"
   ]
  },
  {
   "cell_type": "markdown",
   "metadata": {},
   "source": [
    "## <font color=#d55121>Resources</font>\n",
    "Jupyter Notebook Documentation: [https://jupyter-notebook.readthedocs.io/en/stable/](https://jupyter-notebook.readthedocs.io/en/stable/)\n",
    "\n",
    "Thhe Official Jupyter and Jupyter Notebook/Lab page: [https://jupyter.org/](https://jupyter.org/)\n",
    "\n",
    "_Two useful tutorials:_\n",
    "\n",
    "One to read: [https://realpython.com/jupyter-notebook-introduction/](https://realpython.com/jupyter-notebook-introduction/)\n",
    "\n",
    "One on video: [https://www.youtube.com/watch?v=HW29067qVWk](https://www.youtube.com/watch?v=HW29067qVWk)\n",
    "\n",
    "A cheat sheet is always a good reference: [Cheat Sheet](https://datacamp-community-prod.s3.amazonaws.com/48093c40-5303-45f4-bbf9-0c96c0133c40)"
   ]
  },
  {
   "cell_type": "code",
   "execution_count": null,
   "metadata": {},
   "outputs": [],
   "source": []
  }
 ],
 "metadata": {
  "kernelspec": {
   "display_name": "Python 3",
   "language": "python",
   "name": "python3"
  },
  "language_info": {
   "codemirror_mode": {
    "name": "ipython",
    "version": 3
   },
   "file_extension": ".py",
   "mimetype": "text/x-python",
   "name": "python",
   "nbconvert_exporter": "python",
   "pygments_lexer": "ipython3",
   "version": "3.7.6"
  }
 },
 "nbformat": 4,
 "nbformat_minor": 4
}
