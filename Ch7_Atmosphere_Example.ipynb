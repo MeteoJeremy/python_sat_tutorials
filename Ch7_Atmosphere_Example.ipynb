{
 "cells": [
  {
   "cell_type": "markdown",
   "metadata": {},
   "source": [
    "# Chapter 7 - Example: Atmospheric Data \n",
    "### Analyze wind at 10m for a given month\n",
    "\n",
    "In this chapter we exemplify the use of an atmospheric data set, in this wind vectors at 10m from reanalysis dataset ERA-5. We characterize its variability over a given region, and calculate linear trends.\n",
    "\n",
    "[ERA-5 (ECMWF)](https://registry.opendata.aws/ecmwf-era5/) reanalysis incorporates satellite and in-situ data, and its output variables include ocean, land and atmospheric ones. Therefore, this script can be easily modified for other data than wind. "
   ]
  },
  {
   "cell_type": "code",
   "execution_count": null,
   "metadata": {},
   "outputs": [],
   "source": [
    "# libraries\n",
    "import warnings\n",
    "warnings.simplefilter('ignore') # filter some warning messages\n",
    "\n",
    "import numpy as np\n",
    "import pandas as pd\n",
    "import xarray as xr\n",
    "from calendar import monthrange\n",
    "import matplotlib.pyplot as plt \n",
    "import hvplot.pandas\n",
    "import hvplot.xarray\n",
    "import fsspec\n",
    "import s3fs\n",
    "import dask\n",
    "from dask.distributed import performance_report, Client, progress\n",
    "import os"
   ]
  },
  {
   "cell_type": "markdown",
   "metadata": {},
   "source": [
    "***\n",
    "## Select the region, month and years to analyze"
   ]
  },
  {
   "cell_type": "code",
   "execution_count": null,
   "metadata": {},
   "outputs": [],
   "source": [
    "# Select region by defining latitude and longitude range. ERA-5 data has a 1/4 degree resolution. \n",
    "latr = [39, 40] # Latitude range. Make sure lat1 > lat2 since no test is done below to simplify the code. resolution 0.25 degrees\n",
    "lonr = [-125, -123] # lon1 > lon2. and use the range -180 : 180\n",
    "# time selection\n",
    "mon = 5 # month to analyze\n",
    "iyr = 1979 # you can select the initial year. by default, we set it to the start year of ERA5 dataset\n",
    "fyr = 2021 # you can select the final year. by default, we set it to the end year of ERA5 dataset\n"
   ]
  },
  {
   "cell_type": "markdown",
   "metadata": {},
   "source": [
    "## Obtain data from the AWS cloud\n",
    "\n",
    "In this case, files are stored in a different format (per year, per month), so files have to be accessed individually."
   ]
  },
  {
   "cell_type": "code",
   "execution_count": null,
   "metadata": {},
   "outputs": [],
   "source": [
    "tdt = list() # list tot store time range\n",
    "\n",
    "# v meridional component\n",
    "for iy, y in enumerate(range(iyr, fyr+1)):\n",
    "    file_location = 'https://era5-pds.s3.us-east-1.amazonaws.com/zarr/'+str(y)+'/'+str(mon).zfill(2)+'/data/northward_wind_at_10_metres.zarr'\n",
    "    # filename includes: bucket name: era5-pds, year: y (transformed to string type), month: mon, and the name of the variable with extenssion zarr\n",
    "    ds = xr.open_zarr(file_location,consolidated=True) # open access to data\n",
    "\n",
    "    # generate time frame to obtain (first to last day of selected month)\n",
    "    dte1 = str(y)+'-'+str(mon).zfill(2)+'-01'\n",
    "    dte2 = str(y)+'-'+str(mon).zfill(2)+'-'+str(monthrange(y, mon)[1])\n",
    "    # select data region and time - meridional wind\n",
    "    vds = ds['northward_wind_at_10_metres'].sel(time0 = slice(dte1,dte2),\n",
    "                                            lat  = slice(latr[1],latr[0],), \n",
    "                                            lon  = slice(lonr[0]+360,lonr[1]+360)\n",
    "                                           ).mean(axis=0).load()\n",
    "    if iy==0: # if the first year, create an array to sttore data\n",
    "        v10_dt = np.full((len(range(iyr, fyr+1)),vds.shape[0],vds.shape[1]), np.nan)\n",
    "    v10_dt[iy,:,:] = vds.data # store selected data\n",
    "    \n",
    "# u component\n",
    "for iy, y in enumerate(range(iyr, fyr+1)):\n",
    "    file_location = 'https://era5-pds.s3.us-east-1.amazonaws.com/zarr/'+str(y)+'/'+str(mon).zfill(2)+'/data/eastward_wind_at_10_metres.zarr'\n",
    "    ds = xr.open_zarr(file_location,consolidated=True)\n",
    "\n",
    "    # look at the datarray structure, description and attributes\n",
    "    dte1 = str(y)+'-'+str(mon).zfill(2)+'-01'\n",
    "    dte2 = str(y)+'-'+str(mon).zfill(2)+'-'+str(monthrange(y, mon)[1])\n",
    "    uds = ds['eastward_wind_at_10_metres'].sel(time0 = slice(dte1,dte2),\n",
    "                                            lat  = slice(latr[1],latr[0],), \n",
    "                                            lon  = slice(lonr[0]+360,lonr[1]+360)\n",
    "                                           ).mean(axis=0).load()\n",
    "\n",
    "    if iy==0: # if the first year, create an array to sttore data\n",
    "        u10_dt = np.full((len(range(iyr, fyr+1)),uds.shape[0],uds.shape[1]), np.nan)\n",
    "    u10_dt[iy,:,:] = uds.data # store selected data\n",
    "    \n",
    "    # build time list\n",
    "    tdt.append(str(y)+'-'+str(mon).zfill(2)+'-01') # build time list\n",
    "    \n",
    "os.remove('ERA5_wind10m_mon'+str(mon).zfill(2)+'.nc') # delete lastt file, to clear space"
   ]
  },
  {
   "cell_type": "code",
   "execution_count": null,
   "metadata": {},
   "outputs": [],
   "source": [
    "# build a dataset from the selected data\n",
    "mw10 = xr.Dataset(data_vars=dict(u10m=(['time','lat','lon'],u10_dt),\n",
    "                                 v10m=(['time','lat','lon'],v10_dt), ),\n",
    "                    coords=dict(time=tdt,lat=vds.lat.values, lon=vds.lon.values-360),attrs=vds.attrs) \n",
    "# add wind speed\n",
    "mw10['wsp10m'] = np.sqrt(mw10.u10m**2+mw10.v10m**2) # calculate wind speed\n",
    "mw10.to_netcdf('ERA5_wind10m_mon'+str(mon).zfill(2)+'.nc') # saving the file for a future use, so we don't have to get data again\n",
    "mw10 # taking a peek\n"
   ]
  },
  {
   "cell_type": "markdown",
   "metadata": {},
   "source": [
    "## Plotting the data\n",
    "\n",
    "As before, there is a simple way to plot the data, and also a way to make the plot ready for sharing or publication."
   ]
  },
  {
   "cell_type": "code",
   "execution_count": null,
   "metadata": {},
   "outputs": [],
   "source": [
    "# simple plot of data, using the matplotlib function quiver to plot vectors\n",
    "x,y = np.meshgrid(mw10.lon,mw10.lat) # generate an grid for the vectors, for plotting\n",
    "plt.quiver(x, y, mw10.u10m[0,:,:], mw10.v10m[0,:,:]) \n",
    "plt.show()"
   ]
  },
  {
   "cell_type": "code",
   "execution_count": null,
   "metadata": {},
   "outputs": [],
   "source": [
    "# now a more presentable plot\n",
    "from cartopy.mpl.ticker import LongitudeFormatter, LatitudeFormatter\n",
    "import cartopy.feature as cfeature\n",
    "import cartopy.crs as ccrs\n",
    "from calendar import month_abbr\n",
    "\n",
    "# select a region of our data\n",
    "margin = 0.5 # extra space for the plot\n",
    "region = np.array([[latr[0]-margin,latr[1]+margin],[lonr[0]-margin,lonr[1]+margin]]) # numpy array that specifies the lat/lon boundaries of our selected region\n",
    "\n",
    "# create and set the figure context\n",
    "fig = plt.figure(figsize=(8,5)) # create a figure object, and assign it a variable name fig\n",
    "ax = plt.axes(projection=ccrs.PlateCarree()) # projection type - this one is easy to use\n",
    "ax.coastlines(resolution='50m',linewidth=2,color='black') \n",
    "ax.add_feature(cfeature.LAND, color='grey', alpha=0.3)\n",
    "ax.set_extent([region[1,0],region[1,1],region[0,0],region[0,1]],crs=ccrs.PlateCarree()) \n",
    "ax.set_xticks([*np.arange(region[1,0],region[1,1]+1,1)], crs=ccrs.PlateCarree()) # customize ticks and labels to longitude\n",
    "ax.set_yticks([*np.arange(region[0,0],region[0,1]+1,1)], crs=ccrs.PlateCarree()) # customize ticks and labels to latitude\n",
    "ax.xaxis.set_major_formatter(LongitudeFormatter(zero_direction_label=True))\n",
    "ax.yaxis.set_major_formatter(LatitudeFormatter())\n",
    "\n",
    "# plot average wind for the selected month, color is the wind speed\n",
    "plt.quiver(x, y, mw10.u10m.mean(axis=0), mw10.v10m.mean(axis=0),mw10.wsp10m.mean(axis=0), cmap='jet')\n",
    "cbar=plt.colorbar()\n",
    "cbar.set_label('m/s') # color bar label\n",
    "plt.title('Wind for '+month_abbr[mon]+' ('+str(iyr)+'-'+str(fyr)+')')\n",
    "#fig.savefig('./figures/map_base_'+moname+'.png') # save your figure by usinig the method .savefig. python recognized the format from the filename extension. \n",
    "plt.show()"
   ]
  },
  {
   "cell_type": "markdown",
   "metadata": {},
   "source": [
    "*** \n",
    "## To analyze the data in time, this time we'll select one point in space. \n",
    "\n",
    "For spatial averages use .mean(axis=(1,2)) on the variables."
   ]
  },
  {
   "cell_type": "code",
   "execution_count": null,
   "metadata": {},
   "outputs": [],
   "source": [
    "print('Latitude values: ', mw10.lat.values)\n",
    "print('Longitude values: ',mw10.lon.values)"
   ]
  },
  {
   "cell_type": "code",
   "execution_count": null,
   "metadata": {},
   "outputs": [],
   "source": [
    "# select a point from the range of latitude and longitude values\n",
    "slat = 39 # selected latitude\n",
    "slon = -124 # selected longitude"
   ]
  },
  {
   "cell_type": "code",
   "execution_count": null,
   "metadata": {},
   "outputs": [],
   "source": [
    "# Select data for an specific location, and do a simple plot of each component and the wind speed\n",
    "# meridional wind change\n",
    "plt.plot(range(iyr,fyr+1),mw10.v10m.sel(lat=slat,lon=slon), 'bd-',zorder=2)\n",
    "plt.axhline(y=0,c='k', alpha=0.4)\n",
    "plt.ylabel('Wind speed (m/s)')\n",
    "plt.title('Meridional wind (v), Lat='+str(slat)+', Lon='+str(slon))\n",
    "plt.grid(zorder=0)\n",
    "plt.show()\n",
    "\n",
    "# zonal wind change\n",
    "plt.plot(range(iyr,fyr+1),mw10.u10m.sel(lat=slat,lon=slon), 'go-',zorder=2)\n",
    "plt.axhline(y=0,c='k', alpha=0.4)\n",
    "plt.ylabel('Wind speed (m/s)')\n",
    "plt.title('Zonal wind (u), Lat='+str(slat)+', Lon='+str(slon))\n",
    "plt.grid(zorder=0)\n",
    "plt.show()\n",
    "\n",
    "# wind speed change\n",
    "plt.plot(range(iyr,fyr+1), mw10.wsp10m.sel(lat=slat,lon=slon), 's-',c='darkorange',zorder=2)\n",
    "plt.axhline(y=0,c='k', alpha=0.4)\n",
    "plt.ylabel('Wind speed (m/s)')\n",
    "plt.title('Wind speed, Lat='+str(slat)+', Lon='+str(slon))\n",
    "plt.grid(zorder=0)\n",
    "plt.show()"
   ]
  },
  {
   "cell_type": "markdown",
   "metadata": {},
   "source": [
    "## Calculate a linear trend using a linear regression"
   ]
  },
  {
   "cell_type": "code",
   "execution_count": null,
   "metadata": {},
   "outputs": [],
   "source": [
    "from sklearn.preprocessing import PolynomialFeatures\n",
    "import statsmodels.api as sm\n",
    "\n",
    "var='v10m'\n",
    "\n",
    "x = np.array([*range(iyr,fyr+1)]).reshape(-1,1) # we generate an array of years, and transpose it by using .reshape(-1,1)\n",
    "y = mw10[var].sel(lat=slat,lon=slon).values.reshape(-1,1) # selected variable\n",
    "polf = PolynomialFeatures(1) # linear regression (order=1)\n",
    "xp = polf.fit_transform(x) # generate a array with the years and a dummy / constant variable\n",
    "mods = sm.OLS(y,xp).fit() # calculate regression model, stored in mods\n",
    "print(mods.summary()) "
   ]
  },
  {
   "cell_type": "markdown",
   "metadata": {},
   "source": [
    "# Resources"
   ]
  },
  {
   "cell_type": "code",
   "execution_count": null,
   "metadata": {},
   "outputs": [],
   "source": []
  }
 ],
 "metadata": {
  "kernelspec": {
   "display_name": "Python 3",
   "language": "python",
   "name": "python3"
  },
  "language_info": {
   "codemirror_mode": {
    "name": "ipython",
    "version": 3
   },
   "file_extension": ".py",
   "mimetype": "text/x-python",
   "name": "python",
   "nbconvert_exporter": "python",
   "pygments_lexer": "ipython3",
   "version": "3.8.6"
  }
 },
 "nbformat": 4,
 "nbformat_minor": 4
}
