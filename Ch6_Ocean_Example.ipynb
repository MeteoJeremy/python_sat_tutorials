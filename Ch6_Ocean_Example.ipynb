{
 "cells": [
  {
   "cell_type": "markdown",
   "metadata": {},
   "source": [
    "# Chapter 6 - Ocean Data Example\n",
    "### Quantify area of ocean temperature above a given threshold\n",
    "\n",
    "In this chapter we exemplify the use of Sea Surface Temperature (SST) data by analyzing an area of the ocean and determining the percentage of area above a given threshold. This could be used to study marine heatwaves, or use a threshold relevant for a marine species of interest."
   ]
  },
  {
   "cell_type": "code",
   "execution_count": 1,
   "metadata": {},
   "outputs": [],
   "source": [
    "# libraries\n",
    "import numpy as np\n",
    "import pandas as pd\n",
    "import xarray as xr\n",
    "import fsspec\n",
    "import s3fs\n",
    "\n",
    "# this library helps to make your code execution less messy\n",
    "import warnings\n",
    "warnings.simplefilter('ignore') # filter some warning messages"
   ]
  },
  {
   "cell_type": "code",
   "execution_count": 2,
   "metadata": {},
   "outputs": [],
   "source": [
    "# input parameters\n",
    "latr = [lat1, lat2] # lat1 > lat2\n",
    "lonr = [lon1, lon2] # lon1 > lon2\n",
    "# time frame\n",
    "dater = ['01-01-2000','12-31-2020'] # dates on the format 'DD-MM-YYYY' as string\n",
    "\n",
    "# temperature threshold. either a value or % above normal (like 90th)"
   ]
  },
  {
   "cell_type": "code",
   "execution_count": 3,
   "metadata": {},
   "outputs": [],
   "source": [
    "# read SST data\n",
    "# https://registry.opendata.aws/mur/\n",
    "# s3://mur-sst/zarr/\n",
    "# look at the data, description and attributes\n",
    "ikey = fsspec.get_mapper('s3://omi-no2-nasa/', anon=False)\n",
    " \n",
    "ds_sst = xr.open_zarr(ikey,consolidated=True)\n",
    "ds_sst.close()\n",
    "ds_sst\n",
    "\n",
    "# plot overall climatology for the region, if crossing threshold (value), make contour"
   ]
  },
  {
   "cell_type": "code",
   "execution_count": 4,
   "metadata": {},
   "outputs": [],
   "source": [
    "# basic analytics (time series)\n",
    "# plot seasonal cycle (monthly)\n",
    "# plot time series or anomalies\n",
    "# mark values above threshold\n",
    "# save figure"
   ]
  },
  {
   "cell_type": "code",
   "execution_count": 5,
   "metadata": {},
   "outputs": [],
   "source": [
    "# select a time (month and year)\n",
    "# make plot and countour values above threshold\n",
    "# save figure"
   ]
  },
  {
   "cell_type": "code",
   "execution_count": null,
   "metadata": {},
   "outputs": [],
   "source": [
    "# resources"
   ]
  }
 ],
 "metadata": {
  "kernelspec": {
   "display_name": "Python 3",
   "language": "python",
   "name": "python3"
  },
  "language_info": {
   "codemirror_mode": {
    "name": "ipython",
    "version": 3
   },
   "file_extension": ".py",
   "mimetype": "text/x-python",
   "name": "python",
   "nbconvert_exporter": "python",
   "pygments_lexer": "ipython3",
   "version": "3.7.6"
  }
 },
 "nbformat": 4,
 "nbformat_minor": 4
}
