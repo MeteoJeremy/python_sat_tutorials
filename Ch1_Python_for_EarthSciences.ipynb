{
 "cells": [
  {
   "cell_type": "markdown",
   "metadata": {},
   "source": [
    "# <font color=#31809f>Chapter 1 - Python for Earth Sciences</font>\n",
    "<img src=\"./figures/globe_data.png\"/>\n",
    "\n",
    "***\n",
    "<font color=#31909f>__Note:__</font>This in <font color=#31909f>__not__</font> a tutorial for learning Python - there are many resources for that (see below). In these tutorials we will focus only on the necessary Python tools required to work with satellite data.\n",
    "***\n",
    "\n",
    "## <img src=\"./figures/python_logo.png\" width='400'/>\n",
    "\n",
    "<font color=#d55121>__Python__</font> is a programming language that has reach a developing level that provides many advantages for Eartch Sciece applications:\n",
    "\n",
    "- It is <font color=#31909f>__Open Source__</font>: it is free, everybody can use it, everybody can contribute to it\n",
    "- It is used by an enourmous community of developers\n",
    "- It is <font color=#31909f>__Modular__</font>: it has all the libraries *(collection of programs or functions for a specific purpose)* you could possibly need; you do not need to install them all\n",
    "\n",
    "### <font color=#184d68>This means many libraries have been developed by and for *(earth)* scientists</font>\n",
    "\n",
    "***\n",
    "## <font color=#d55121>Python Scientific Ecosystem</font>\n",
    "There is a number of libraries and data structures in Python that make it ideal for Earth Sciences. Because of Python's modular structure, new and specific libraries are built, and take advantage of, well developed more basic ones. For example, xarray is not only developed on top of Python, but also uses SciPy, Pandas and matplotlib, which are built on top of Numpy.\n",
    "\n",
    "<img src=\"./figures/python_scientific_ecosystem.png\" alt=\"Python Scientific Ecosystem\" width=\"700\"/>\n",
    "\n",
    "***\n",
    "## <font color=#d55121> How to use these tutorials</font>\n",
    "\n",
    "There are different ways to program in Python. In these tutorials we use the web interface JupyterLab (Chapter 2). In chapter 3 we will learn basic and necessary Python commands and data structure, and in Chapters 4 and 5 we will learn the tools that make Python ideal for satellite data analysis.\n",
    "\n",
    "We only cover the necessary commands to be able to navigate the applications chapters, where we illustrate through examples how to acquire, analyze and visualize satellite data. To learn more about Python and libraries used, we have a __Resources__ section at the bottom of each Chapter, make sure to take a look. \n",
    "\n",
    "## <font color=#d55121>Where to get help</font>\n",
    "Like with everything these days... when in doubt... google it! (One of the best Q&A resources, and many times the first link in a google search, it is Stackoverflow.\n",
    "\n",
    "\n"
   ]
  },
  {
   "cell_type": "markdown",
   "metadata": {},
   "source": [
    "## <font color=#d55121> Resources</font>\n",
    "\n",
    "### <font color=#184d68>Python Tutorials</font>\n",
    "To learn python resources: basic python\n",
    "\n",
    "### <font color=#184d68>Python Ecosystem</font>\n",
    "\n",
    "If you decide to install and rund these tutorials in your own computer see instructions and resources here.\n"
   ]
  },
  {
   "cell_type": "code",
   "execution_count": null,
   "metadata": {},
   "outputs": [],
   "source": []
  }
 ],
 "metadata": {
  "kernelspec": {
   "display_name": "Python 3",
   "language": "python",
   "name": "python3"
  },
  "language_info": {
   "codemirror_mode": {
    "name": "ipython",
    "version": 3
   },
   "file_extension": ".py",
   "mimetype": "text/x-python",
   "name": "python",
   "nbconvert_exporter": "python",
   "pygments_lexer": "ipython3",
   "version": "3.7.6"
  }
 },
 "nbformat": 4,
 "nbformat_minor": 4
}
