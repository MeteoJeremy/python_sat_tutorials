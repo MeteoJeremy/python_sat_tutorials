{
 "cells": [
  {
   "cell_type": "markdown",
   "metadata": {},
   "source": [
    "# Chapter 4 - Satellite Data Tools\n",
    "\n",
    "<b>Objective:</b> Teaching how to search for satellite data available in the cloud, and read data for specific regions and time periods."
   ]
  },
  {
   "cell_type": "code",
   "execution_count": null,
   "metadata": {},
   "outputs": [],
   "source": [
    "netcdf and xarray\n",
    "wehre to find data? cloud, file reading\n",
    "zar - description and resources\n",
    "reading - create a time sereies, and analyze space\n",
    "mean, different dimentsion\n",
    "resample, etc (anomaliies, montly seasonal averages)\n",
    "where\n",
    "combine or operate over data"
   ]
  }
 ],
 "metadata": {
  "kernelspec": {
   "display_name": "Python 3",
   "language": "python",
   "name": "python3"
  },
  "language_info": {
   "codemirror_mode": {
    "name": "ipython",
    "version": 3
   },
   "file_extension": ".py",
   "mimetype": "text/x-python",
   "name": "python",
   "nbconvert_exporter": "python",
   "pygments_lexer": "ipython3",
   "version": "3.7.6"
  }
 },
 "nbformat": 4,
 "nbformat_minor": 4
}
