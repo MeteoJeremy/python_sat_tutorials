{
 "cells": [
  {
   "cell_type": "markdown",
   "metadata": {},
   "source": [
    "# Chapter 7 - Atmospheric Data Example\n",
    "### Analyze high ozone events in the atmosphere over a region\n",
    "\n",
    "In this chapter we exemplify the use of an atmospheric data set, in this case ozone (atually N02 tropospheric column density, that poxies tropospheric ozone), characterize its variability over a given region, and identify high concentration events and # of days of high ozone levels year.\n",
    "\n",
    "This data estimates ozone in the whole air column, which is not necessarly reflection of ozone at ground level, so it is not a recommended for air quality at the surface. We selected this one because of the lenght of its data"
   ]
  },
  {
   "cell_type": "code",
   "execution_count": 1,
   "metadata": {},
   "outputs": [],
   "source": [
    "# libraries"
   ]
  },
  {
   "cell_type": "code",
   "execution_count": 2,
   "metadata": {},
   "outputs": [],
   "source": [
    "# input parameters:\n",
    "# area to analyze: lat, lon ranges\n",
    "# time frame"
   ]
  },
  {
   "cell_type": "code",
   "execution_count": 3,
   "metadata": {},
   "outputs": [],
   "source": [
    "# read ozone data\n",
    "# https://registry.opendata.aws/omi-no2-nasa/\n",
    "# https://aura.gsfc.nasa.gov/omi.htmld\n",
    "# s3://omi-no2-nasa/   \n",
    "# look at the data, description and attributes\n",
    "\n",
    "# plot overall climatology for the region, and max/min values (orr 10-90th percentiles)"
   ]
  },
  {
   "cell_type": "code",
   "execution_count": 4,
   "metadata": {},
   "outputs": [],
   "source": [
    "# plot time series\n",
    "# identify moments above 90#\n",
    "# count # days per year above it per year"
   ]
  },
  {
   "cell_type": "code",
   "execution_count": null,
   "metadata": {},
   "outputs": [],
   "source": [
    "# resources"
   ]
  }
 ],
 "metadata": {
  "kernelspec": {
   "display_name": "Python 3",
   "language": "python",
   "name": "python3"
  },
  "language_info": {
   "codemirror_mode": {
    "name": "ipython",
    "version": 3
   },
   "file_extension": ".py",
   "mimetype": "text/x-python",
   "name": "python",
   "nbconvert_exporter": "python",
   "pygments_lexer": "ipython3",
   "version": "3.7.6"
  }
 },
 "nbformat": 4,
 "nbformat_minor": 4
}
