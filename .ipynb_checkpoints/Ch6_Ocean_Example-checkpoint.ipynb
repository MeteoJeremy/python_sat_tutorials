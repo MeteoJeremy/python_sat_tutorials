{
 "cells": [
  {
   "cell_type": "markdown",
   "metadata": {},
   "source": [
    "# Chapter 6 - Example: Ocean Data \n",
    "###  Ocean area above a given temperature threshold\n",
    "\n",
    "In this chapter we exemplify the use of Sea Surface Temperature (SST) data in the cloud. This example analyze a time sereis from an area of the ocean or a point. If an area, averages SST values. \n",
    "\n",
    "Then it analyze if when SST is above a given threshold. This could be used to study marine heatwaves, or use a threshold relevant for a marine species of interest."
   ]
  },
  {
   "cell_type": "code",
   "execution_count": null,
   "metadata": {},
   "outputs": [],
   "source": [
    "# Import libraries\n",
    "import warnings # this library helps to make your code execution less messy\n",
    "warnings.simplefilter('ignore') # filter some warning messages\n",
    "import numpy as np\n",
    "import pandas as pd\n",
    "import xarray as xr\n",
    "import matplotlib.pyplot as plt \n",
    "import hvplot.pandas # this library helps to make interactive plots\n",
    "import hvplot.xarray\n",
    "import fsspec # these libraries help reading cloud data\n",
    "import s3fs\n",
    "import dask\n",
    "from dask.distributed import performance_report, Client, progress"
   ]
  },
  {
   "cell_type": "code",
   "execution_count": null,
   "metadata": {},
   "outputs": [],
   "source": [
    "# Input parameters\n",
    "latr = [19, 20] # make sure lat1 > lat2 since no test is done below to simplify the code\n",
    "lonr = [-158, -157] # lon1 > lon2\n",
    "# time frame\n",
    "dater = ['2012-01-01','2019-12-31'] # dates on the format 'YYYY-MM-DD' as string"
   ]
  },
  {
   "cell_type": "markdown",
   "metadata": {},
   "source": [
    "***\n",
    "## We are going to use the Multi-Scale Ultra High Resolution (MUR) Sea Surface Temperature (SST) data set\n",
    "### from the Amazon (AWS) Cloud\n",
    "### For more info and links to the data see: https://registry.opendata.aws/mur/\n",
    "\n",
    "This dataset is stored in 'zarr' format, which is optimized for the cloud and large datasets. It is not stored one 'image' at at time, but in 'chunks', so it is perfect for extracting time series.\n",
    "\n",
    "First, we open the dataset and explore it, but we are not acquiring it yet"
   ]
  },
  {
   "cell_type": "code",
   "execution_count": null,
   "metadata": {},
   "outputs": [],
   "source": [
    "# one method\n",
    "# file_location = 's3://mur-sst/zarr-v1'\n",
    "# ds_sst = xr.open_zarr(fsspec.get_mapper(file_location, anon=True),consolidated=True)\n",
    "\n",
    "# another, which has updated and optimized data\n",
    "file_location = 'https://mur-sst.s3.us-west-2.amazonaws.com/zarr-v1'\n",
    "ds_sst = xr.open_zarr(file_location,consolidated=True)\n",
    "\n",
    "# look at the datarray structure, description and attributes\n",
    "ds_sst\n",
    "# click on the page icon on the far right of each varraible/coordinate for information"
   ]
  },
  {
   "cell_type": "markdown",
   "metadata": {},
   "source": [
    "## Now we load only the data we want \n",
    "It takes a while."
   ]
  },
  {
   "cell_type": "code",
   "execution_count": null,
   "metadata": {},
   "outputs": [],
   "source": [
    "# if we give it only one point. selects and load onlyy that point for the data range given.\n",
    "if (latr[0]==latr[1]) | (lonr[0]==lonr[1]):\n",
    "    sst = ds_sst['analysed_sst'].sel(time = slice(dater[0],dater[1]),\n",
    "                                            lat  = latr[0], \n",
    "                                            lon  = lonr[0]\n",
    "                                           ).load()\n",
    "else: # if we give it an area, it extract the area and average SST over the area and returns a time series of SST\n",
    "    sst = ds_sst['analysed_sst'].sel(time = slice(dater[0],dater[1]),\n",
    "                                            lat  = slice(latr[0], latr[1]), \n",
    "                                            lon  = slice(lonr[0], lonr[1])\n",
    "                                           ).mean(dim={'lat','lon'}, skipna=True, keep_attrs=True).load() # skip 'not a number' values and keep attributes\n",
    "\n",
    "sst = sst-273.15 # transform into degrees Celsius\n",
    "sst.to_netcdf('sst_example.nc') # we are saving the data. if we need to come back to analyze the same data, we do not have to acquire it again.\n",
    "sst"
   ]
  },
  {
   "cell_type": "markdown",
   "metadata": {},
   "source": [
    "***\n",
    "## Excute next cell if reading the data from a file - either no access to cloud, or not want to keep reading. Skip otherwise"
   ]
  },
  {
   "cell_type": "code",
   "execution_count": null,
   "metadata": {},
   "outputs": [],
   "source": [
    "# in the meantime....\n",
    "sst = xr.open_dataset('./sst_example.nc') # read a netcdf\n",
    "sst.close()\n",
    "sst = sst.analysed_sst"
   ]
  },
  {
   "cell_type": "markdown",
   "metadata": {},
   "source": [
    "***\n",
    "## Let's plot the data, with two different libraries.\n",
    "#### 1. matplotlib, that we already learn. static nice figures.\n",
    "#### 2. hovplot, a more interactive library for web display, that will provide you with the data details when you hover your cursor over the line in the figure. "
   ]
  },
  {
   "cell_type": "code",
   "execution_count": null,
   "metadata": {},
   "outputs": [],
   "source": [
    "# matplotlib #\n",
    "print('matplotlib') \n",
    "sst.plot() # this is all you need\n",
    "\n",
    "# all the stuff here to make it look better. try commenting them out\n",
    "plt.ylabel('SST ($^\\circ$C)')\n",
    "plt.xlabel('Year')\n",
    "plt.title('Location: '+str(latr)+'$^\\circ$N, '+str(lonr)+'$^\\circ$W')\n",
    "plt.grid(True, alpha=0.3)\n",
    "plt.show()\n",
    "\n",
    "# hovplot #\n",
    "print('hovplot')\n",
    "df = pd.DataFrame(data=sst.data, index=sst.time.data,columns=['SST (C)'])\n",
    "df.index.name = 'Date'\n",
    "df.hvplot(grid=True)"
   ]
  },
  {
   "cell_type": "markdown",
   "metadata": {},
   "source": [
    "***\n",
    "## Now let's analyze our data.\n",
    "#### First, the classic climatology and anomalies. Just to use our new hovplot tool."
   ]
  },
  {
   "cell_type": "code",
   "execution_count": null,
   "metadata": {},
   "outputs": [],
   "source": [
    "# Calculate the climatology\n",
    "sst_climatology = sst.groupby('time.dayofyear').mean('time',keep_attrs=True,skipna=False) # group by day, all years. skipna ignore miissing values (NaN=Not a Number)\n",
    "sst_climstd = sst.groupby('time.dayofyear').std('time',keep_attrs=True,skipna=False) # calculate standard deviation. keep attributes.\n",
    "\n",
    "# creates a pandas dataframe, a table , to plot easily using hvplot.\n",
    "df = pd.DataFrame(data=sst_climatology.data, index=sst_climatology.dayofyear.data,columns=['SST (C)'])\n",
    "df['+Std']=sst_climstd.data+sst_climatology.data \n",
    "df['-Std']=-sst_climstd.data+sst_climatology.data\n",
    "df.index.name = 'Day of Year'\n",
    "df.hvplot(color=['k','grey','grey'], grid=True, title='SST Climatology') # plot the climatology (black, and the standard deviation in grey)"
   ]
  },
  {
   "cell_type": "code",
   "execution_count": null,
   "metadata": {},
   "outputs": [],
   "source": [
    "# Calculate the anomalies\n",
    "sst_anomaly = sst.groupby('time.dayofyear')-sst_climatology \n",
    "sst_anomaly_monthly = sst_anomaly.resample(time='1MS', loffset='15D').mean(keep_attrs=True,skipna=False)\n",
    "\n",
    "# again, making a pandas dataframe for easy plotting with hvplot\n",
    "df2 = pd.DataFrame(data=sst_anomaly.data, index=sst.time.data,columns=['SSTa (C)'])\n",
    "df2.index.name = 'Date'\n",
    "df2.hvplot.area(x='Date', y='SSTa (C)', grid=True, title='SST Anomalies')"
   ]
  },
  {
   "cell_type": "markdown",
   "metadata": {},
   "source": [
    "***\n",
    "## Now, let's use the plots above to analyze the data further. Let's choose our threshold.\n",
    "\n",
    "### One way is to set a threshold that has some relevance.  For example, a thermal threshold for a marine species we are studying. \n",
    "\n",
    "### Another way is choosing the max value in the climatology (mean climatology + 1 standard deviation), which we can calculate or find out by hovering our cursor over the climatology plot above.\n",
    "\n",
    "## Once the threshold is choosen, we will identify days with SST over that threshold in our time series, and count how many times that occurred per year"
   ]
  },
  {
   "cell_type": "code",
   "execution_count": null,
   "metadata": {},
   "outputs": [],
   "source": [
    "# first define a function that take the threshold and analyze and plot our data\n",
    "def SST_above(thr):\n",
    "    # plotting data, highlighting values above threshold\n",
    "    plt.plot(sst.time,sst.data, lw=1)\n",
    "    a=sst>=thr\n",
    "    plt.plot(sst.time[a], sst.data[a],'.r')\n",
    "    # all stuff here to make it look good\n",
    "    plt.ylabel('SST ($^\\circ$C)')\n",
    "    plt.xlabel('Year')\n",
    "    plt.title('Location: '+str(latr)+'$^\\circ$N, '+str(lonr)+'$^\\circ$W')\n",
    "    plt.grid(True, alpha=0.3)\n",
    "    plt.show()\n",
    "\n",
    "    # plotting data, # values above threshold per year\n",
    "    dts = sst[sst>=thr].time\n",
    "    hot_days = dts.groupby('time.year').count()\n",
    "    plt.bar(hot_days.year, hot_days)\n",
    "    plt.xlim(int(dater[0][:4]), int(dater[1][:4])+1)\n",
    "    plt.ylabel('No. days above '+str(np.round(thr,1))+'C')\n",
    "    plt.grid(True, alpha=0.3)\n",
    "    plt.show()\n",
    "\n",
    "##### two examples\n",
    "# maximum climatology threshold\n",
    "thr = df['+Std'].max() # setting threshold as maximum climatological value: mean + 1 standard deviation\n",
    "print('Max climatological SST = ',np.round(thr,1),'C')\n",
    "SST_above(thr) # Call function\n",
    "\n",
    "### next example\n",
    "# set a relevant threshold. For example, for hawaii, 28C is a relevant threshold for coral bleaching (https://coralreefwatch.noaa.gov/product/5km/tutorial/crw08a_bleaching_threshold.php)\n",
    "thr = 28\n",
    "print('\\n\\n')\n",
    "print('Biologically relevant SST = ',thr,'C')\n",
    "SST_above(thr)"
   ]
  },
  {
   "cell_type": "markdown",
   "metadata": {},
   "source": [
    "***\n",
    "### Now let's try a different definition of anomalously warm SST days. \n",
    "## Marine heatwaves\n",
    "### They are defined as any period with SST anomalies above a threshold defined as the 90th percentile value of the SST anomalies for a defined period - in this case our data time period."
   ]
  },
  {
   "cell_type": "code",
   "execution_count": null,
   "metadata": {},
   "outputs": [],
   "source": [
    "# calculate the threshold: 90th percentile\n",
    "thr = np.percentile(sst_anomaly, 90)\n",
    "\n",
    "# same plot as in our function above, but this time we are plotting the anomalies.\n",
    "plt.plot(sst_anomaly.time,sst_anomaly.data, lw=1)\n",
    "plt.axhline(y=0, c='k', zorder=0, alpha=0.5)\n",
    "\n",
    "a=sst_anomaly>=thr\n",
    "plt.plot(sst_anomaly.time[a], sst_anomaly.data[a],'.r')\n",
    "# all stuff here to make it look good\n",
    "plt.ylabel('SST ($^\\circ$C)')\n",
    "plt.xlabel('Year')\n",
    "plt.title('Location: '+str(latr)+'$^\\circ$N, '+str(lonr)+'$^\\circ$W')\n",
    "plt.grid(True, alpha=0.3)\n",
    "plt.show()\n",
    "\n",
    "# how many days we have values above that threshoold per year\n",
    "dts = sst_anomaly[sst_anomaly>=thr].time\n",
    "mhw = dts.groupby('time.year').count()\n",
    "plt.bar(mhw.year,mhw)\n",
    "plt.ylabel('No. days SSTa > '+str(np.round(thr,1))+'C')\n",
    "plt.grid(True, alpha=0.3)\n",
    "plt.show()\n",
    "mhw # print the numbers"
   ]
  },
  {
   "cell_type": "markdown",
   "metadata": {},
   "source": [
    "## Finally, let's see how the SST field around this point or the region selected look for a hottest day and our coldest day."
   ]
  },
  {
   "cell_type": "code",
   "execution_count": null,
   "metadata": {},
   "outputs": [],
   "source": [
    "minv = sst.min() # find mininum SST value\n",
    "mindate = sst[sst==minv].time.data # find when this min value occurred\n",
    "maxv = sst.max() # find maximum SST value\n",
    "maxdate = sst[sst==maxv].time.data # find when the max value occurred"
   ]
  },
  {
   "cell_type": "code",
   "execution_count": null,
   "metadata": {},
   "outputs": [],
   "source": [
    "def select_area(day): # function going back to the SST data in the cloud, we now load a different subset, given \n",
    "    if (latr[0]==latr[1]) | (lonr[0]==lonr[1]): # if input data was one point\n",
    "        sst2 = ds_sst.sel(time = day,\n",
    "                            lat  = slice(latr-2,latr+2),\n",
    "                            lon  = slice(lonr-2,lonr+2)\n",
    "                            ).load()\n",
    "    else: # if input data was a region\n",
    "        sst2 = ds_sst.sel(time = day,\n",
    "                            lat  = slice(latr[0], latr[1]), \n",
    "                            lon  = slice(lonr[0], lonr[1])\n",
    "                            ).load()\n",
    "    sst3 = sst2['analysed_sst']-273.15\n",
    "    mask = sst2['mask'].where(sst2['mask']<2)\n",
    "    sst3 = sst3*mask\n",
    "    return sst3"
   ]
  },
  {
   "cell_type": "code",
   "execution_count": null,
   "metadata": {},
   "outputs": [],
   "source": [
    "# plot warmest day\n",
    "msst = select_area(maxdate)\n",
    "msst.hvplot.quadmesh(x='lon',y='lat',coastline=True, clabel='T [C]', cmap='coolwarm', title=str(maxdate[0])[:10])\n"
   ]
  },
  {
   "cell_type": "code",
   "execution_count": null,
   "metadata": {},
   "outputs": [],
   "source": [
    "# plot coolest day\n",
    "msst = select_area(mindate)\n",
    "msst.hvplot.quadmesh(x='lon',y='lat',coastline=True, clabel='T [C]', cmap='coolwarm', title=str(mindate[0])[:10])"
   ]
  },
  {
   "cell_type": "markdown",
   "metadata": {},
   "source": [
    "***\n",
    "# Resources\n",
    "\n",
    "[Pangeo OSM2020 Tutorial](https://github.com/pangeo-gallery/osm2020tutorial). This is a very good tutorial for ocean application and cloud computing. Plentyy of examples. Many of the commands here are from this tutorial.\n",
    "\n",
    "[MUR SST Data](https://registry.opendata.aws/mur/). SST data in the cloud, with references the official datta website, examplles and other resources.\n",
    "\n",
    "[hvplot site](https://hvplot.holoviz.org/index.html). Plotting tool used here.\n",
    "\n",
    "[Marine heatwaves](http://www.marineheatwaves.org/all-about-mhws.html). A good place to begin to get info about the subject.\n",
    "\n",
    "[Marine heatwaves code](https://github.com/ecjoliver/marineHeatWaves). Marine heatwaves code from E. Oliver. "
   ]
  },
  {
   "cell_type": "code",
   "execution_count": null,
   "metadata": {},
   "outputs": [],
   "source": []
  }
 ],
 "metadata": {
  "kernelspec": {
   "display_name": "Python 3 (ipykernel)",
   "language": "python",
   "name": "python3"
  },
  "language_info": {
   "codemirror_mode": {
    "name": "ipython",
    "version": 3
   },
   "file_extension": ".py",
   "mimetype": "text/x-python",
   "name": "python",
   "nbconvert_exporter": "python",
   "pygments_lexer": "ipython3",
   "version": "3.7.6"
  }
 },
 "nbformat": 4,
 "nbformat_minor": 4
}
