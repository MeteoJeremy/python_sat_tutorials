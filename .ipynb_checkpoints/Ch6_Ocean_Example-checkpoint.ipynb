{
 "cells": [
  {
   "cell_type": "markdown",
   "metadata": {},
   "source": [
    "# Chapter 6 - Ocean Data Example\n",
    "### Quantify area of ocean temperature above a given threshold\n",
    "\n",
    "In this chapter we exemplify the use of Sea Surface Temperature (SST) data by analyzing an area of the ocean and determining the percentage of area above a given threshold. This could be used to study marine heatwaves, or use a threshold relevant for a marine species of interest."
   ]
  },
  {
   "cell_type": "code",
   "execution_count": null,
   "metadata": {},
   "outputs": [],
   "source": [
    "# libraries\n",
    "import numpy as np\n",
    "import pandas as pd\n",
    "import xarray as xr\n",
    "import matplotlib.pyplot as plt \n",
    "import hvplot.pandas\n",
    "import hvplot.xarray\n",
    "import fsspec\n",
    "import s3fs\n",
    "import dask\n",
    "from dask.distributed import performance_report, Client, progress\n",
    "xr.set_options(display_style=\"html\")  #display dataset nicely\n",
    "\n",
    "# this library helps to make your code execution less messy\n",
    "import warnings\n",
    "warnings.simplefilter('ignore') # filter some warning messages"
   ]
  },
  {
   "cell_type": "code",
   "execution_count": null,
   "metadata": {},
   "outputs": [],
   "source": [
    "# input parameters\n",
    "latr = 20.5 # lat1 > lat2\n",
    "lonr = -158.2 # lon1 > lon2\n",
    "# time frame\n",
    "dater = ['2013-01-01','2019-12-31'] # dates on the format 'YYYY-MM-DD' as string\n"
   ]
  },
  {
   "cell_type": "markdown",
   "metadata": {},
   "source": [
    "***\n",
    "### Read data from the Cloud"
   ]
  },
  {
   "cell_type": "code",
   "execution_count": null,
   "metadata": {},
   "outputs": [],
   "source": [
    "# read the cloud data - metadata, and set the access 'link' (variable)\n",
    "# https://registry.opendata.aws/mur/\n",
    "# s3://mur-sst/zarr/\n",
    "# look at the data, description and attributes\n",
    "ds_sst = xr.open_zarr('https://mur-sst.s3.us-west-2.amazonaws.com/zarr-v1',consolidated=True)\n",
    "ds_sst\n",
    "# click on ... for information"
   ]
  },
  {
   "cell_type": "code",
   "execution_count": null,
   "metadata": {},
   "outputs": [],
   "source": [
    "# load the data - only the selected one\n",
    "sst = ds_sst['analysed_sst'].sel(time = slice(dater[0],dater[1]),\n",
    "                                            lat  = latr,\n",
    "                                            lon  = lonr\n",
    "                                           ).load()\n",
    "\n",
    "sst = sst-273.15 # into degrees Celsius\n",
    "sst.to_netcdf('sst_example.nc')\n",
    "sst.plot()"
   ]
  },
  {
   "cell_type": "markdown",
   "metadata": {},
   "source": [
    "***\n",
    "### Read the data from a file - either no access to cloud, or not want to keep reading"
   ]
  },
  {
   "cell_type": "code",
   "execution_count": null,
   "metadata": {},
   "outputs": [],
   "source": [
    "# in the meantime....\n",
    "sst = xr.open_dataset('./sst_example.nc') # read a netcdf\n",
    "sst.close()\n",
    "sst = sst.analysed_sst"
   ]
  },
  {
   "cell_type": "markdown",
   "metadata": {},
   "source": [
    "***\n",
    "### Let's plot the data, with two different libraries.\n",
    "#### 1. matplotlib, that we already learn. static nice figures.\n",
    "#### 2. hovplot, a more interactive library for web displlay. "
   ]
  },
  {
   "cell_type": "code",
   "execution_count": null,
   "metadata": {},
   "outputs": [],
   "source": [
    "# matplotlib #\n",
    "# this is all you need\n",
    "\n",
    "print('matplotlib')\n",
    "sst.plot() \n",
    "\n",
    "# all stuff here to make it look good\n",
    "plt.ylabel('SST ($^\\circ$C)')\n",
    "plt.xlabel('Year')\n",
    "plt.title('Location: '+str(latr)+'$^\\circ$N, '+str(lonr)+'$^\\circ$W')\n",
    "plt.grid(True, alpha=0.3)\n",
    "plt.show()\n",
    "\n",
    "# hovplot #\n",
    "print('hovplot. you can examine your data while plotting: try hovering your mouse over the plot and data details are displayed.')\n",
    "df = pd.DataFrame(data=sst.data, index=sst.time.data,columns=['SST (C)'])\n",
    "df.index.name = 'Date'\n",
    "df.hvplot(grid=True)"
   ]
  },
  {
   "cell_type": "markdown",
   "metadata": {},
   "source": [
    "### Now let's do some analysis on our data.\n",
    "#### First, the classic climatology and anomalies. Just to use our new hovplot tool."
   ]
  },
  {
   "cell_type": "code",
   "execution_count": null,
   "metadata": {},
   "outputs": [],
   "source": [
    "# Climatology\n",
    "sst_climatology = sst.groupby('time.dayofyear').mean('time',keep_attrs=True,skipna=False)\n",
    "sst_climstd = sst.groupby('time.dayofyear').std('time',keep_attrs=True,skipna=False)\n",
    "\n",
    "df = pd.DataFrame(data=sst_climatology.data, index=sst_climatology.dayofyear.data,columns=['SST (C)'])\n",
    "df['+Std']=sst_climstd.data+sst_climatology.data\n",
    "df['-Std']=-sst_climstd.data+sst_climatology.data\n",
    "df.index.name = 'Day of Year'\n",
    "df.hvplot(color=['k','grey','grey'])"
   ]
  },
  {
   "cell_type": "code",
   "execution_count": null,
   "metadata": {},
   "outputs": [],
   "source": [
    "# Anomalies\n",
    "sst_anomaly = sst.groupby('time.dayofyear')-sst_climatology\n",
    "sst_anomaly_monthly = sst_anomaly.resample(time='1MS', loffset='15D').mean(keep_attrs=True,skipna=False)\n",
    "\n",
    "df2 = pd.DataFrame(data=sst_anomaly.data, index=sst.time.data,columns=['SSTa (C)'])\n",
    "df2.index.name = 'Date'\n",
    "df2.hvplot(grid=True)"
   ]
  },
  {
   "cell_type": "code",
   "execution_count": null,
   "metadata": {},
   "outputs": [],
   "source": [
    "# another way to plot it\n",
    "df2.hvplot.area(x='Date', y='SSTa (C)', grid=True)"
   ]
  },
  {
   "cell_type": "markdown",
   "metadata": {},
   "source": [
    "### Now, using the plots above to further our analysis.\n",
    "### _For example_, hovering over the climatology i get to see that normally, SST doesn't get avobe 28.22C (on average), or 28.82C (with 1 standard deviation). Considering any day with SST below or equal to 28.8C a normal (even if hot), when do we see higher SST values?"
   ]
  },
  {
   "cell_type": "code",
   "execution_count": null,
   "metadata": {},
   "outputs": [],
   "source": [
    "# now, let's choose a threshold\n",
    "thr = df['+Std'].max() # one degree C above the climatology\n",
    "print('Max normal SST = ',thr,'C')\n",
    "\n",
    "# plotting data, highlighting values above threshold\n",
    "plt.plot(sst.time,sst.data, lw=1)\n",
    "a=sst>=thr\n",
    "plt.plot(sst.time[a], sst.data[a],'.r')\n",
    "# all stuff here to make it look good\n",
    "plt.ylabel('SST ($^\\circ$C)')\n",
    "plt.xlabel('Year')\n",
    "plt.title('Location: '+str(latr)+'$^\\circ$N, '+str(lonr)+'$^\\circ$W')\n",
    "plt.grid(True, alpha=0.3)\n",
    "plt.show()\n",
    "\n",
    "# plotting data, highlighting values above threshold\n",
    "dts = sst[sst>=thr].time\n",
    "hot_days = dts.groupby('time.year').count()\n",
    "plt.bar(hot_days.year, hot_days)\n",
    "plt.xlim(int(dater[0][:4]), int(dater[1][:4])+1)\n",
    "plt.show()\n",
    "hot_days\n",
    "\n",
    "\n"
   ]
  },
  {
   "cell_type": "markdown",
   "metadata": {},
   "source": [
    "### now lets try a different definitin of hot days. marine heat waves. defined by SST hoter than the 90th percentile of SST anomalies within a period."
   ]
  },
  {
   "cell_type": "code",
   "execution_count": null,
   "metadata": {},
   "outputs": [],
   "source": [
    "# plotting data, highlighting values above threshold\n",
    "\n",
    "plt.plot(sst_anomaly.time,sst_anomaly.data, lw=1)\n",
    "plt.axhline(y=0, c='k', zorder=0, alpha=0.5)\n",
    "# 90%th percentile\n",
    "thr = np.percentile(sst_anomaly, 90)\n",
    "a=sst_anomaly>=thr\n",
    "plt.plot(sst_anomaly.time[a], sst_anomaly.data[a],'.r')\n",
    "# all stuff here to make it look good\n",
    "plt.ylabel('SST ($^\\circ$C)')\n",
    "plt.xlabel('Year')\n",
    "plt.title('Location: '+str(latr)+'$^\\circ$N, '+str(lonr)+'$^\\circ$W')\n",
    "plt.grid(True, alpha=0.3)\n",
    "plt.show()\n",
    "\n",
    "# how many days we have values above that threshoold per year\n",
    "dts = sst_anomaly[sst_anomaly>=thr].time\n",
    "mhw = dts.groupby('time.year').count()\n",
    "plt.bar(mhw.year,mhw)\n",
    "plt.show()\n",
    "mhw"
   ]
  },
  {
   "cell_type": "markdown",
   "metadata": {},
   "source": [
    "## finally, let's see how the SST field around this point look for a hot day identified above."
   ]
  },
  {
   "cell_type": "code",
   "execution_count": null,
   "metadata": {},
   "outputs": [],
   "source": [
    "# select a time (month and year)\n",
    "# make plot and countour values above threshold\n",
    "# save figure\n",
    "# input parameters\n",
    "latr = 20.5 # lat1 > lat2\n",
    "lonr = -158.2 # lon1 > lon2\n",
    "# time frame\n",
    "dater = ['2019-07-16','2019-07-16'] # dates on the format 'YYYY-MM-DD' as string\n",
    "\n",
    "sst2 = ds_sst.sel(time = slice(dater[0],dater[1]),\n",
    "                                lat  = slice(latr-2,latr+2),\n",
    "                                lon  = slice(lonr-2,lonr+2)\n",
    "                                ).load()\n"
   ]
  },
  {
   "cell_type": "code",
   "execution_count": null,
   "metadata": {},
   "outputs": [],
   "source": [
    "sst3 = sst2['analysed_sst']-273.15\n",
    "mask = sst2['mask'].where(sst2['mask']<2)\n",
    "sst3 = sst3*mask\n",
    "sst3.hvplot.quadmesh(x='lon',y='lat',coastline=True, clabel='T [C]', cmap='coolwarm')"
   ]
  },
  {
   "cell_type": "markdown",
   "metadata": {},
   "source": [
    "# resources"
   ]
  }
 ],
 "metadata": {
  "kernelspec": {
   "display_name": "Python 3",
   "language": "python",
   "name": "python3"
  },
  "language_info": {
   "codemirror_mode": {
    "name": "ipython",
    "version": 3
   },
   "file_extension": ".py",
   "mimetype": "text/x-python",
   "name": "python",
   "nbconvert_exporter": "python",
   "pygments_lexer": "ipython3",
   "version": "3.7.6"
  }
 },
 "nbformat": 4,
 "nbformat_minor": 4
}
