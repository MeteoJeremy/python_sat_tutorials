{
 "cells": [
  {
   "cell_type": "markdown",
   "metadata": {},
   "source": [
    "#  <font color=#31809f>Chapter 1 - Python for Earth Sciences</font>\n",
    "![](./figures/globe_data.png)\n",
    "\n",
    "***\n",
    "<font color=#31909f>__Note:__</font> This in <font color=#31909f>__not__</font> a tutorial on Python - there are many resources for that. the purpose of this tutorial is to learn, through examples, the necessary Python code and tools required to work with satellite data. Please see the __Resources__ section in each chapter to learn more about Python and libraries used.\n",
    "\n",
    "***\n",
    "\n",
    "## <img src=\"./figures/python_logo.png\" width='400'/>\n",
    "\n",
    "<font color=#d55121>__Python__</font> is a well developed, easy to learn programming language that provides many advantages for a wide range of applications, including Eartch Scieces':\n",
    "\n",
    "- It is <font color=#31909f>__Open Source__</font>: it is free, everybody can use it, everybody can contribute to it\n",
    "- It is used by an enourmous community of developers\n",
    "- It is <font color=#31909f>__Modular__</font>: it has all the libraries *(collection of programs or functions for a specific purpose)* you could possibly need; you do not need to install them all\n",
    "- <font color=#d55121>This means many libraries have been developed by and for (_earth_) scientists</font>\n",
    "\n",
    "***\n",
    "## <font color=#d55121>Python Scientific Ecosystem</font>\n",
    "There is a number of libraries and data structures in Python that make it ideal for Earth Sciences. Because of Python's modular structure, new and specific libraries are built, and take advantage of, well developed more basic ones. For example, the __xarray__ library is not only developed on top of `Python`, but also uses the __SciPy__, __Pandas__ and __matplotlib__ libraries, which are built on top of __Numpy__.\n",
    "\n",
    "<img src=\"./figures/python_scientific_ecosystem.png\" alt=\"Python Scientific Ecosystem\" width=\"700\"/>\n",
    "\n",
    "***\n",
    "## <font color=#d55121> How to use these tutorials</font>\n",
    "\n",
    "There are different ways to program in Python. In these tutorials we use the web interface JupyterLab (__Chapter 2__ gives a quick overview on how to use it). In __Chapter 3__ we will learn basic and necessary Python commands and data structures, and in __Chapters 4a & 4b__ we will learn the tools (libraries) we need (and make `Python` ideal) for satellite data analysis.\n",
    "\n",
    "We only cover, through examples, the necessary and basic knowledge you need to be able to navigate the applications chapters, where we illustrate through project-like examples how to acquire, analyze and visualize satellite data. \n",
    "\n",
    "## <font color=#d55121>Where to get help</font>\n",
    "Beyond the __Resources__ links provided, like with everything these days... when in doubt: __google it!__ You'll find many, and growing, useful pages. One of the best Q&A resources, and many times the first link in a google search, it is [Stackoverflow](https://stackoverflow.com/). This site is an always evolving community in which people ask and aswer coding questions. \n"
   ]
  },
  {
   "cell_type": "markdown",
   "metadata": {},
   "source": [
    "***\n",
    "## <font color=#d55121> Resources</font>\n",
    "\n",
    "### <font color=#184d68>Python Tutorials</font>\n",
    "To learn python resources: basic python\n",
    "\n",
    "### <font color=#184d68>Python Ecosystem</font>\n",
    "\n",
    "If you decide to install and rund these tutorials in your own computer see instructions and resources here.\n"
   ]
  },
  {
   "cell_type": "code",
   "execution_count": null,
   "metadata": {},
   "outputs": [],
   "source": []
  }
 ],
 "metadata": {
  "kernelspec": {
   "display_name": "Python 3",
   "language": "python",
   "name": "python3"
  },
  "language_info": {
   "codemirror_mode": {
    "name": "ipython",
    "version": 3
   },
   "file_extension": ".py",
   "mimetype": "text/x-python",
   "name": "python",
   "nbconvert_exporter": "python",
   "pygments_lexer": "ipython3",
   "version": "3.7.6"
  }
 },
 "nbformat": 4,
 "nbformat_minor": 4
}
