{
 "cells": [
  {
   "cell_type": "markdown",
   "metadata": {},
   "source": [
    "# <font color=#31809f>Chapter 1 - Python for Earth Sciences</font>\n",
    "<img src=\"figures/globe_data.png\"/>\n",
    "\n",
    "***\n",
    "<font color=#31909f>__Note:__</font>This in <font color=#31909f>__not__</font> a tutorial for learning Python - there are many resources for that (see below). In these tutorials we will focus only on the necessary Python tools required to work with satellite data.\n",
    "***\n",
    "\n",
    "## <img src=\"figures/python_logo.png\" width='400'/>\n",
    "\n",
    "<font color=#d55121>__Python__</font> is a programming language that has reach a developing level that provides many advantages for Eartch Sciece applications:\n",
    "\n",
    "- It is <font color=#31909f>__Open Source__</font>: it is free, everybody can use it, everybody can contribute to it\n",
    "- It is used by an enourmous community of developers\n",
    "- It is <font color=#31909f>__Modular__</font>: it has all the libraries *(collection of programs or functions for a specific purpose)* you could possibly need; you do not need to install them all\n",
    "\n",
    "### <font color=#184d68>This means many libraries have been developed by and for *(earth)* scientists</font>\n",
    "\n",
    "***\n",
    "## <font color=#d55121>Python Scientific Ecosystem</font>\n",
    "<img src=\"figures/python_scientific_ecosystem.png\" alt=\"Python Scientific Ecosystem\"/>\n",
    "\n",
    "There is a number of libraries and data structures that make it ideal for earth sciences: Numpy, SciPy, matplotlib, Pandas, and xarray. Because of Python modular structure, new and specific libraries are built on more basic ones taking advantage of well developed more basic libraries. For example, xarray not only on top of python, but also takes advantage of numpy, scipy, pandaas and matplotlib to name few.\n",
    "\n",
    "***\n",
    "## <font color=#d55121> How to run these tutorials</font>\n",
    "\n",
    "There are different ways to program and run programs in Python. <u>Schematics (update)</u>\n",
    "\n",
    "For these tutorial, we are providing a binder (cloud running image of the tutorialls) to run them online. They use Jupyter Lab as an interface.\n",
    "\n",
    "If you decide to install Python and run these tutorial from your computer, see the resources below.\n",
    "\n",
    "\n",
    "## <font color=#d55121> Resources</font>\n",
    "\n",
    "## <font color=#d55121>Where to get help</font>\n",
    "Stackoverflow\n",
    "\n",
    "## Python Tutorials\n",
    "To learn python resources: basic python\n",
    "\n",
    "## How to install Python (using conda)\n",
    "If you decide to install and rund these tutorials in your own computer\n",
    "\n",
    "## Clone tutorials from GitHub\n",
    "\n"
   ]
  },
  {
   "cell_type": "code",
   "execution_count": null,
   "metadata": {},
   "outputs": [],
   "source": []
  }
 ],
 "metadata": {
  "kernelspec": {
   "display_name": "Python 3",
   "language": "python",
   "name": "python3"
  },
  "language_info": {
   "codemirror_mode": {
    "name": "ipython",
    "version": 3
   },
   "file_extension": ".py",
   "mimetype": "text/x-python",
   "name": "python",
   "nbconvert_exporter": "python",
   "pygments_lexer": "ipython3",
   "version": "3.7.6"
  }
 },
 "nbformat": 4,
 "nbformat_minor": 4
}
