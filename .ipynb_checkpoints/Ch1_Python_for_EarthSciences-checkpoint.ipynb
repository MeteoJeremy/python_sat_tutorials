{
 "cells": [
  {
   "cell_type": "markdown",
   "metadata": {},
   "source": [
    "# Chapter 1 - Python for Earth Sciences\n",
    "## <u>[Image of globe data]</u>\n",
    "Teach basic and necessary Python concepts and commands."
   ]
  },
  {
   "cell_type": "markdown",
   "metadata": {},
   "source": [
    "<b>Objective:</b> Present characteristics and advantages of python (and conda) and point to resources and instructions.\n",
    "\n",
    "<b>Note:</b> This in <b>not</b> a tutorial to learn Python - there are many resources for that (bellow). In these tutorial we will learn the necessary Python required to work with satellite data."
   ]
  },
  {
   "cell_type": "markdown",
   "metadata": {},
   "source": [
    "Python overall descriptiion and advantages over other programing languages for earth sciences:\n",
    "\n",
    "It is Open Source: it is free, everybody can use it, everybody can contribute to it\n",
    "It is used by an enourmous community of developers\n",
    "It is Modular: it has all the libraries you could possibly need; you do not need to install them all\n",
    "\n",
    "Specific librraries developed for science and earrth sciences thatt makes life easier... in cluding time handling"
   ]
  },
  {
   "cell_type": "code",
   "execution_count": null,
   "metadata": {},
   "outputs": [],
   "source": [
    "Python Ecosystem"
   ]
  },
  {
   "cell_type": "markdown",
   "metadata": {},
   "source": [
    "Python modules and data structures that make it ideal for earth sciences"
   ]
  },
  {
   "cell_type": "markdown",
   "metadata": {},
   "source": [
    "there are different ways to program in python (or interact with python). here we are and will be using Jupyter lab interface for these tutorials - next tutorial to get the basics of it (link). \n",
    "other options:"
   ]
  },
  {
   "cell_type": "markdown",
   "metadata": {},
   "source": [
    "Different ways to run these tutorials (maybe in the readme too)"
   ]
  },
  {
   "cell_type": "markdown",
   "metadata": {},
   "source": [
    "Where to get help"
   ]
  },
  {
   "cell_type": "markdown",
   "metadata": {},
   "source": [
    "# Resources"
   ]
  },
  {
   "cell_type": "markdown",
   "metadata": {},
   "source": [
    "To learn python resources: basic python"
   ]
  },
  {
   "cell_type": "markdown",
   "metadata": {},
   "source": [
    "If you decide to install and rund these tutorials in your own computer\n",
    "\n",
    "Installation and usage (including the cloud)\n",
    "\n",
    "- update figure to include cloud\n",
    "- conda (links too)\n",
    "\n",
    "here it needs more links or refer to another file with instructions and resources"
   ]
  },
  {
   "cell_type": "markdown",
   "metadata": {},
   "source": [
    "Github link and how to get these tutorials"
   ]
  },
  {
   "cell_type": "markdown",
   "metadata": {},
   "source": [
    "(new files: how to install python (using conda), and a github one)"
   ]
  }
 ],
 "metadata": {
  "kernelspec": {
   "display_name": "Python 3",
   "language": "python",
   "name": "python3"
  },
  "language_info": {
   "codemirror_mode": {
    "name": "ipython",
    "version": 3
   },
   "file_extension": ".py",
   "mimetype": "text/x-python",
   "name": "python",
   "nbconvert_exporter": "python",
   "pygments_lexer": "ipython3",
   "version": "3.7.6"
  }
 },
 "nbformat": 4,
 "nbformat_minor": 4
}
