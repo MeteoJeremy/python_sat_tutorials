{
 "cells": [
  {
   "cell_type": "markdown",
   "metadata": {},
   "source": [
    "# Chapter 8 - Example: Land Data\n",
    "### Changes in vegetation index through the years for an area. NDVI index inidicates the percentage of vegetation for each grid point.\n",
    "\n",
    "In this chapter we don't use data from the cloud, but exemplify how to obtain timeseries data from the data stored in temporally separeted files in the internet and analyze it. You'll see that it is not very different from previous chapters, except that there is not a centralized repository for data. In the future (hopefully soon), when data is in the cloud on a similar data format, accessing from these data would be similar to chapters 6 and 7.\n",
    "\n",
    "## This script reads NDVI (vegetation index) files from a `thredds` server, compile the region and time selected, and then analyze the change in vegetation index through time."
   ]
  },
  {
   "cell_type": "code",
   "execution_count": null,
   "metadata": {},
   "outputs": [],
   "source": [
    "import warnings\n",
    "warnings.simplefilter('ignore') \n",
    "\n",
    "import pandas as pd\n",
    "import numpy as np\n",
    "import xarray as xr\n",
    "xr.set_options(display_style=\"html\")  # display dataset nicely\n",
    "import os\n",
    "import re # regular expressions\n",
    "from datetime import date\n",
    "from calendar import month_abbr\n",
    "import urllib as ur # library to download files online  \n",
    "import requests # library to read files online \n",
    "import matplotlib.pyplot as plt \n",
    "import hvplot.pandas\n",
    "import hvplot.xarray\n"
   ]
  },
  {
   "cell_type": "code",
   "execution_count": null,
   "metadata": {},
   "outputs": [],
   "source": [
    "# Select a region \n",
    "lat1, lat2 = 16, 18 # two latitudes for a range: lat1<lat2, resolution is 0.05 degrees\n",
    "lon1, lon2 = -98,-96 # longitude range. rarnge -180:180\n",
    "\n",
    "# Select a day of year. \n",
    "# This script obtains data for the region for the selected day for each available year\n",
    "mon = 7 # month\n",
    "dy = 31 # day"
   ]
  },
  {
   "cell_type": "markdown",
   "metadata": {},
   "source": [
    "***\n",
    "## Obtaining the data"
   ]
  },
  {
   "cell_type": "code",
   "execution_count": null,
   "metadata": {
    "scrolled": true
   },
   "outputs": [],
   "source": [
    "# Find what years are available for chosen day \n",
    "ayrs = [*range(1989,date.today().year)] # data available since 1989. Search until current year with the date.today function.\n",
    "iurl = 'https://www.ncei.noaa.gov/thredds/fileServer/' # threeds server link where data is stored\n",
    "flist = list() # initialization of file list \n",
    "\n",
    "# Looks for the file for each year\n",
    "for i in ayrs: # looks for a list of files in each year folder\n",
    "    r = requests.get('https://www.ncei.noaa.gov/thredds/catalog/cdr/ndvi/files/'+str(i)+'/catalog.html')   # request download the indicated file\n",
    "    x = re.split(\"\\'\",r.text) # search for symbol ' and separate the data (which comes in a html format)\n",
    "    for j in x: # for each file in the text, looks for the selected day \n",
    "        dtnm = '_'+str(i)+str(mon).zfill(2)+str(dy).zfill(2)+'_' # constructs the file name with year, month and day info\n",
    "        if (dtnm in j) & (\"catalog.html?\" in j): # and if not repeated or a information line\n",
    "            flist.append(j) # add the file name to our list"
   ]
  },
  {
   "cell_type": "code",
   "execution_count": null,
   "metadata": {
    "scrolled": true
   },
   "outputs": [],
   "source": [
    "# Download each file from our list, and select region\n",
    "tdt = list() # initialize a list for time\n",
    "for iy, i in enumerate(flist): \n",
    "    iurl2 = iurl + re.split('=',i)[1] # construct the url for each fille\n",
    "    print(iy, re.split('/',i)[-1]) # print the file name being downloaded\n",
    "    tmp = ur.request.urlretrieve(iurl2, './data/tmp.nc') # this is a different request (no s at the end), download a file that has a specific (non-text) format, saves it in a file call tmp.nc\n",
    "    nvi = xr.open_dataset('./data/tmp.nc') # now we can use it as regular local file\n",
    "    nvi.close()\n",
    "    tdt.append(nvi.time.data[0]) # add the date to our list\n",
    "    \n",
    "    tmp1 = nvi.NDVI[0,:,:].sel(latitude=slice(lat2,lat1),longitude=slice(lon1,lon2)) # select region from the file data\n",
    "    if iy==0: # if the first year, create an array to store the data\n",
    "        nvi_dt = np.full((len(flist),tmp1.shape[0],tmp1.shape[1]), np.nan)\n",
    "    nvi_dt[iy,:,:] = tmp1.data # store selected data\n",
    "    os.remove('./data/tmp.nc') # delete file, so we can keep downloading using the name"
   ]
  },
  {
   "cell_type": "code",
   "execution_count": null,
   "metadata": {},
   "outputs": [],
   "source": [
    "# Build an xarray Data Array structure to make the analysis easier\n",
    "ndvi = xr.DataArray(data=nvi_dt, dims=['time','latitude','longitude'], \n",
    "                    coords=dict(time=tdt,latitude=tmp1.latitude.values, longitude=tmp1.longitude.values),attrs=tmp1.attrs) \n",
    "ndvi # taking a peek"
   ]
  },
  {
   "cell_type": "markdown",
   "metadata": {},
   "source": [
    "***\n",
    "## The analysis\n",
    "\n",
    "First, calculate a climatological field of the vegetation index by averaging all years."
   ]
  },
  {
   "cell_type": "code",
   "execution_count": null,
   "metadata": {},
   "outputs": [],
   "source": [
    "mean_ndvi = ndvi.mean(axis=0) # average over the first axis (0), which is time. \n",
    "mean_ndvi.plot(cmap='YlGn') # change the color map to yellow to green for this particular data set\n",
    "plt.title('NDVI Climatology for '+month_abbr[mon]+' '+str(dy).zfill(2))\n",
    "plt.show()"
   ]
  },
  {
   "cell_type": "markdown",
   "metadata": {},
   "source": [
    "### Now we calculate the spatial anomaly for a given year by taking the difference between the climatology and a given year"
   ]
  },
  {
   "cell_type": "code",
   "execution_count": null,
   "metadata": {},
   "outputs": [],
   "source": [
    "syr = 2018 # select a year\n",
    "# first we constuct the time step index string with the selected year, month and day\n",
    "(ndvi.sel(time=str(2018)+'-'+str(mon).zfill(2)+'-'+str(dy).zfill(2))-mean_ndvi).plot() \n",
    "plt.show()"
   ]
  },
  {
   "cell_type": "markdown",
   "metadata": {},
   "source": [
    "***\n",
    "## For a time series analysis, we average each year's field over latitute and longitude\n",
    "\n",
    "But we add a condition: we select only locations where the vegetation index is equal or larger than 0.3 - this means we are looking at the change in vegetation for locations that at the begining of the timeseries have at least 30% vegetation coverage."
   ]
  },
  {
   "cell_type": "code",
   "execution_count": null,
   "metadata": {
    "scrolled": true
   },
   "outputs": [],
   "source": [
    "veg_mean = list() # list to store vegetation index %\n",
    "mask0 = ndvi[0,:,:].where(ndvi[0,:,:]>=0.3) # create a mask for veg. index >= 30% in the first time step. other locations set to NaN\n",
    "veg_area = mask0.count() # count the number of grid points above when the mask is applied - need it if you want to calculate area later\n",
    "for i in range(len(ayrs)): \n",
    "    tmp=ndvi[i,:,:]*mask0 # apply the mask for each year\n",
    "    veg_mean.append(tmp.mean())\n",
    "\n",
    "plt.bar(ayrs,veg_mean-np.nanmean(veg_mean))\n",
    "plt.title('Vegetation Index Change for '+month_abbr[mon]+' '+str(dy).zfill(2))\n",
    "plt.ylabel('NDVI')\n",
    "plt.grid(True, alpha=0.3)\n",
    "plt.show()"
   ]
  },
  {
   "cell_type": "markdown",
   "metadata": {},
   "source": [
    "***\n",
    "# Resources\n",
    "\n",
    "\n",
    "### Data and data sources: \n",
    "- [NDVI Normalized Difference Vegetation Index (Climate Data Record)](https://www.ncei.noaa.gov/products/climate-data-records/normalized-difference-vegetation-index) data. \n",
    "- [NDVI data list](https://www.ncei.noaa.gov/thredds/catalog/cdr/ndvi/catalog.html) \n",
    "\n",
    "### Other locations for MODIS and NDVI data\n",
    "- [AWS](https://registry.opendata.aws/modis-astraea/)\n",
    "- [AWS NASA NEX](https://registry.opendata.aws/nasanex/)\n",
    "- [Earth Engine](https://developers.google.com/earth-engine/datasets/catalog/NOAA_CDR_AVHRR_NDVI_V5#description)\n",
    "- [USGS](https://lpdaac.usgs.gov/products/mod13q1v006/)\n",
    "\n",
    "### Other data in `thredds`\n",
    "- [NCEI thredds](https://www.ncei.noaa.gov/thredds/catalog.html) NOAA National Centers for Environmental Information thredds catalog.\n",
    "- [How to access data file ini thredds](https://www.unidata.ucar.edu/software/tds/current/tutorial/CatalogPrimer.html)\n",
    "\n",
    "### More on the libraries:\n",
    "- [A short article on how to download files from url in Python](https://betterprogramming.pub/3-simple-ways-to-download-files-with-python-569cb91acae6)\n",
    "- [urllib/request](https://docs.python.org/3/library/urllib.request.html?highlight=retrieve) library \n",
    "- Regular expressions [re](https://docs.python.org/3/howto/regex.html). Useful method to manipulate strings. See this [tutorial](https://www.tutorialspoint.com/python/python_reg_expressions.htm) for a more friendly approach.\n"
   ]
  },
  {
   "cell_type": "code",
   "execution_count": null,
   "metadata": {},
   "outputs": [],
   "source": []
  }
 ],
 "metadata": {
  "kernelspec": {
   "display_name": "Python 3 (ipykernel)",
   "language": "python",
   "name": "python3"
  },
  "language_info": {
   "codemirror_mode": {
    "name": "ipython",
    "version": 3
   },
   "file_extension": ".py",
   "mimetype": "text/x-python",
   "name": "python",
   "nbconvert_exporter": "python",
   "pygments_lexer": "ipython3",
   "version": "3.7.6"
  }
 },
 "nbformat": 4,
 "nbformat_minor": 4
}
