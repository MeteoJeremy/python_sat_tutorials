{
 "cells": [
  {
   "cell_type": "markdown",
   "metadata": {},
   "source": [
    "# Chapter 8 - Land Data Example\n",
    "### Calculate changes in vegetation extent in a given area\n",
    "\n",
    "In In this chapter we plot and calculate changes in vegetation extent in a selected area, using MODIS data"
   ]
  },
  {
   "cell_type": "code",
   "execution_count": null,
   "metadata": {},
   "outputs": [],
   "source": [
    "# libraries\n",
    "import numpy as np\n",
    "import pandas as pd\n",
    "import xarray as xr\n",
    "import os\n",
    "import re\n",
    "import urllib as ur\n",
    "import requests\n",
    "import matplotlib.pyplot as plt \n",
    "import hvplot.pandas\n",
    "import hvplot.xarray\n",
    "xr.set_options(display_style=\"html\")  #display dataset nicely\n",
    "\n",
    "# this library helps to make your code execution less messy\n",
    "import warnings\n",
    "warnings.simplefilter('ignore') # filter some warning messages"
   ]
  },
  {
   "cell_type": "code",
   "execution_count": null,
   "metadata": {},
   "outputs": [],
   "source": [
    "# parameters\n",
    "# region\n",
    "lat1, lat2 = 16, 18\n",
    "lon1, lon2 = -98,-96\n",
    "# all time available\n",
    "mon = 8 # month\n",
    "dy = 15 # day"
   ]
  },
  {
   "cell_type": "code",
   "execution_count": null,
   "metadata": {
    "scrolled": true
   },
   "outputs": [],
   "source": [
    "# find each year image (same day)\n",
    "ayrs = [*range(1989,2021)]\n",
    "iurl = 'https://www.ncei.noaa.gov/thredds/fileServer/' # server link\n",
    "# looks for fle each year\n",
    "flist = list()\n",
    "\n",
    "for i in ayrs:\n",
    "    r = requests.get('https://www.ncei.noaa.gov/thredds/catalog/cdr/ndvi/files/'+str(i)+'/catalog.html')   \n",
    "    #print(r.text)\n",
    "    x = re.split(\"\\'\",r.text)\n",
    "    for j in x:\n",
    "        #if (\".nc\" in i) & (\"catalog.html?\" in i):\n",
    "        dtnm = '_'+str(i)+str(mon).zfill(2)+str(dy).zfill(2)+'_'\n",
    "        if (dtnm in j) & (\"catalog.html?\" in j):\n",
    "            flist.append(j)"
   ]
  },
  {
   "cell_type": "code",
   "execution_count": null,
   "metadata": {
    "scrolled": true
   },
   "outputs": [],
   "source": [
    "tdt = list()\n",
    "for iy, i in enumerate(flist):\n",
    "    iurl2 = iurl + re.split('=',i)[1]\n",
    "    print(iy,i)\n",
    "    tmp = ur.request.urlretrieve(iurl2, 'tmp.nc')\n",
    "    nvi = xr.open_dataset('tmp.nc')\n",
    "    #print(nvi)\n",
    "    nvi.close()\n",
    "    tdt.append(nvi.time.data[0])\n",
    "    tmp1 = nvi.NDVI[0,:,:].sel(latitude=slice(lat2,lat1),longitude=slice(lon1,lon2))\n",
    "    if iy==0:\n",
    "        nvi_dt = np.full((len(flist),tmp1.shape[0],tmp1.shape[1]), np.nan)\n",
    "    nvi_dt[iy,:,:] = tmp1.data\n",
    "    os.remove('tmp.nc')"
   ]
  },
  {
   "cell_type": "code",
   "execution_count": null,
   "metadata": {},
   "outputs": [],
   "source": [
    "ndvi = xr.DataArray(data=nvi_dt, dims=['time','latitude','longitude'], \n",
    "                    coords=dict(time=tdt,latitude=tmp1.latitude.values, longitude=tmp1.longitude.values),attrs=tmp1.attrs) \n",
    "ndvi"
   ]
  },
  {
   "cell_type": "code",
   "execution_count": null,
   "metadata": {},
   "outputs": [],
   "source": [
    "mean_ndvi = ndvi.mean(axis=0)\n",
    "mean_ndvi.plot(cmap='YlGn')"
   ]
  },
  {
   "cell_type": "code",
   "execution_count": null,
   "metadata": {},
   "outputs": [],
   "source": [
    "(ndvi.sel(time='2018-'+str(mon).zfill(2)+'-'+str(dy).zfill(2))-mean_ndvi).plot()"
   ]
  },
  {
   "cell_type": "code",
   "execution_count": null,
   "metadata": {},
   "outputs": [],
   "source": [
    "veg_area = list()\n",
    "veg_mean = list()\n",
    "for i in range(len(ayrs)): \n",
    "    tmp=ndvi[i,:,:].where(ndvi[i,:,:]>=0.03)\n",
    "    veg_area.append(tmp.count())\n",
    "    veg_mean.append(tmp.mean())\n",
    "plt.bar(ayrs,veg_area-np.nanmean(veg_area))\n",
    "plt.show()\n",
    "plt.bar(ayrs,veg_mean-np.nanmean(veg_mean))\n",
    "plt.show()"
   ]
  },
  {
   "cell_type": "code",
   "execution_count": null,
   "metadata": {},
   "outputs": [],
   "source": [
    "# another example"
   ]
  },
  {
   "cell_type": "code",
   "execution_count": null,
   "metadata": {},
   "outputs": [],
   "source": [
    "iurl = 'https://data.giss.nasa.gov/pub/gistemp/gistemp250_GHCNv4.nc.gz'\n",
    "#r = requests.get(iurl)\n",
    "with open('gistmep.nc.gz', \"wb\") as f:\n",
    "    r = requests.get(iurl)\n",
    "    f.write(r.content)\n",
    "f.close()\n",
    "os.system('gunzip gistmep.nc.gz')\n",
    "tas = xr.open_dataset('gistmep.nc')\n",
    "tas.tempanomaly.sel(lat=17,lon=-97,time=slice('1980-01-01','2021-08-15')).plot()\n",
    "plt.grid()\n",
    "tas"
   ]
  },
  {
   "cell_type": "code",
   "execution_count": null,
   "metadata": {},
   "outputs": [],
   "source": []
  }
 ],
 "metadata": {
  "kernelspec": {
   "display_name": "Python 3",
   "language": "python",
   "name": "python3"
  },
  "language_info": {
   "codemirror_mode": {
    "name": "ipython",
    "version": 3
   },
   "file_extension": ".py",
   "mimetype": "text/x-python",
   "name": "python",
   "nbconvert_exporter": "python",
   "pygments_lexer": "ipython3",
   "version": "3.7.6"
  }
 },
 "nbformat": 4,
 "nbformat_minor": 4
}
