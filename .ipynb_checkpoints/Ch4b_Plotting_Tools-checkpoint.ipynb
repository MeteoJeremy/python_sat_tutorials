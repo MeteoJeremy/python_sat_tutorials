{
 "cells": [
  {
   "cell_type": "markdown",
   "metadata": {},
   "source": [
    "# Chapter 4b - Plotting Tools\n",
    "\n",
    "In this chapter we will learn to visualize data beyond a quick plot as in the previous chapter. We will present two examples using the libraries __matplotlib__ and __cartopy__. The first example is a time series and second a map.\n",
    "\n",
    "***\n",
    "\n",
    "Let's start by importing the pertinent libraries"
   ]
  },
  {
   "cell_type": "code",
   "execution_count": null,
   "metadata": {},
   "outputs": [],
   "source": [
    "# basic libraries\n",
    "import numpy as np\n",
    "import pandas as pd\n",
    "import xarray as xr\n",
    "\n",
    "# necesary libraries for plotting\n",
    "import matplotlib.pyplot as plt # note that in both cases we import one object within the library\n",
    "import cartopy.crs as ccrs\n",
    "\n",
    "import warnings\n",
    "warnings.simplefilter('ignore') # filter some warning messages"
   ]
  },
  {
   "cell_type": "markdown",
   "metadata": {},
   "source": [
    "## <font color=#d55121>Plot SST anomalies timeseries</font>  \n",
    "\n",
    "We will use the same data from the previous chapter to calculate and plot global sea surface temperature anomalies from the Hadley dataset. And we will also calculate the climatology and anomalies of monthly data to show a slightly more complicated plot, ilustrating some __xarray__ methods."
   ]
  },
  {
   "cell_type": "code",
   "execution_count": null,
   "metadata": {},
   "outputs": [],
   "source": [
    "# open the dataset\n",
    "ds = xr.open_dataset('./data/HadISST_sst_2000-2020.nc') # read a netcdf\n",
    "ds.close() # close the file, so can be use by you or others. it is good practice.\n",
    "\n",
    "# select north and southern hemispheres, and average spatially to obtain a time series\n",
    "nh_sst = ds.sst.sel(latitude=slice(90,0)).mean(dim=['latitude','longitude'])\n",
    "sh_sst = ds.sst.sel(latitude=slice(0,-90)).mean(dim=['latitude','longitude'])\n",
    "\n",
    "# Calculate climatology\n",
    "nh_clim = nh_sst.groupby('time.month').mean('time') # note the application of two methods, first groupby, and then the operation to perform over the group\n",
    "# Calculate and explore the anomalies\n",
    "nh_ssta = nh_sst.groupby('time.month') - nh_clim  # in this case groupby 'aligns' the data with the climatology, but only substract the appropiate climatology data point\n",
    "nh_ssta # Note that the new dataarray (one variable) has a new coordinate, but not dimension"
   ]
  },
  {
   "cell_type": "markdown",
   "metadata": {},
   "source": [
    "### <font color=#184d68>The actual plotting of the data</font>\n",
    "    \n",
    "Making a simple plot using __matplotlib__ migth seems like too much code, since there is many parameters to customize. However, that comes in handy for more complicated plots. <font color=#d55121>__In the next cell__</font> we introduce some of the basic methods in a plot:\n",
    "- Defininig a figure and its size\n",
    "- The function <font color=#31909f>__plot__</font>\n",
    "- How to add labels and legend\n",
    "- And how to display and 'finalize' a plot"
   ]
  },
  {
   "cell_type": "code",
   "execution_count": null,
   "metadata": {},
   "outputs": [],
   "source": [
    "plt.figure(figsize=(10,4))\n",
    "plt.plot(nh_sst.time, nh_sst, '.-',label='NH') # the basic method plot() is used for line plots.\n",
    "plt.plot(sh_sst.time, sh_sst, '+-', c='tab:orange', label='SH')\n",
    "plt.grid(True)\n",
    "plt.legend(loc=0)\n",
    "plt.ylabel('SST (C)', fontsize=14)\n",
    "plt.title('Monthly Hemisphheric SST', fontsize=16)\n",
    "plt.show() # Note that we didn't use this before, but it a necesary line to finalize and properly display a figure"
   ]
  },
  {
   "cell_type": "markdown",
   "metadata": {},
   "source": [
    "<font color=#d55121>__In the next cell__</font> we plot the anomalies, separatng with color the positive and negative values. This is a more complicated plot that requires operate on the data first (using the method _.where_), but the plotting part is stratight forward."
   ]
  },
  {
   "cell_type": "code",
   "execution_count": null,
   "metadata": {},
   "outputs": [],
   "source": [
    "plt.figure(figsize=(12,4))\n",
    "pos = nh_ssta.where(nh_ssta>=0)\n",
    "neg = nh_ssta.where(nh_ssta<0)\n",
    "dates = nh_ssta.time.dt.year + (nh_ssta.time.dt.month-1)/12\n",
    "plt.bar(dates, pos.values, width=1/13, color='tab:red', zorder=1, edgecolor=None)\n",
    "plt.bar(dates, neg.values, width=1/13, color='tab:blue',zorder=1)\n",
    "plt.axhline(color='grey',zorder=2)\n",
    "plt.grid(True, zorder=0)\n",
    "plt.ylabel('SST anomalies (C)')\n",
    "plt.title('Northern Hemisphere SST anomalies')\n",
    "plt.xticks([*range(2000,2021,1)], rotation=40)\n",
    "plt.autoscale(enable=True, axis='x', tight=True)\n",
    "plt.show()\n"
   ]
  },
  {
   "cell_type": "markdown",
   "metadata": {},
   "source": [
    "***\n",
    "## <font color=#d55121>Map plotting</font> \n",
    "\n",
    "Now we turn to customize our maps. While the quick plot method from __xarray__ is in many cases all we neeed. Sometimes we require a more costumized or nicer image: for a presentation or publication. Here we illustrate this, because we will use it in the next chapters. It might seem like complicated code, but really there are only many customized elements - many of then could be left to the default values, but we wanted to show how to do so.\n",
    "\n",
    "For global plots, extend and coordinate labels are sometimes not necessary to specify, but we choose a regional plot for the next example to show how to plot and label only a particular region. \n",
    "\n",
    "<font color=#31909f>__Note__</font> that in the next to last line, we will also save our figure, and display it in the last line. "
   ]
  },
  {
   "cell_type": "code",
   "execution_count": null,
   "metadata": {},
   "outputs": [],
   "source": [
    "# import functions to label coordinates and add color to the land mass (otherwise is white)\n",
    "from cartopy.mpl.ticker import LongitudeFormatter, LatitudeFormatter\n",
    "import cartopy.feature as cfeature\n",
    "import calendar # this library give us quick access to names and numbers related to dates\n",
    "\n",
    "# select a region of our data\n",
    "region = np.array([[30,-40],[25,120]]) # numpy array that specifies the lat/lon boundaries of our selected region\n",
    "io_sst = ds.sst.sel(latitude=slice(region[0,0],region[0,1]),longitude=slice(region[1,0],region[1,1])) # select region\n",
    "\n",
    "for mon in [1,7]:  # select two months of data to plot: month 1 and month 7\n",
    "    moname = calendar.month_name[mon] # get the name of the month\n",
    "    tmp = io_sst.sel(time=ds.time.dt.month==mon).mean('time') # select only one monthh at a time in a temporal object\n",
    "\n",
    "    # create and set the figure context\n",
    "    fig = plt.figure(figsize=(8,5)) # create a figure object, and assign it a variable name fig\n",
    "    ax = plt.axes(projection=ccrs.PlateCarree()) # projection type - this one is easy to use\n",
    "    ax.coastlines(resolution='50m',linewidth=2,color='black') \n",
    "    ax.add_feature(cfeature.LAND, color='black')\n",
    "    ax.set_extent([region[1,0],region[1,1],region[0,0],region[0,1]],crs=ccrs.PlateCarree()) \n",
    "    ax.set_xticks([*range(region[1,0],region[1,1]+1,20)], crs=ccrs.PlateCarree()) # customize ticks and labels to longitude\n",
    "    ax.set_yticks([*range(region[0,1],region[0,0]+1,10)], crs=ccrs.PlateCarree()) # customize ticks and labels to latitude\n",
    "    ax.xaxis.set_major_formatter(LongitudeFormatter(zero_direction_label=True))\n",
    "    ax.yaxis.set_major_formatter(LatitudeFormatter())\n",
    "    plt.grid(True, alpha=0.5) # add a grid. the alpha argument specify the level of transparency of a plot figure\n",
    "\n",
    "    # the core: the data to plot\n",
    "    plt.contourf(tmp.longitude,tmp.latitude, tmp,15, cmap='RdYlBu_r') # contourf (filled contour plot) takes the 1D lat and lon coordinates for the 2D data. cmap specify the colormap to use.\n",
    "    cbar=plt.colorbar()\n",
    "    cbar.set_label('SST (C)')\n",
    "    plt.title(moname+' SST (2000-2020)')\n",
    "    fig.savefig('./figures/map_base_'+moname+'.png') # save your figure by usinig the method .savefig. python recognized the format from the filename extension. \n",
    "    plt.show()"
   ]
  },
  {
   "cell_type": "markdown",
   "metadata": {},
   "source": [
    "***\n",
    "## <font color=#d55121>Resources</font> \n",
    "\n",
    "__Matplotlib__ - the Official site: [https://matplotlib.org/](https://matplotlib.org/) \n",
    "\n",
    "Make sure to look at their gallery, which contains the code for each plot: [https://matplotlib.org/stable/gallery/index.html](https://matplotlib.org/stable/gallery/index.html)\n",
    "\n",
    "A very simple, step by step tutorial to matplotlib: [https://github.com/rougier/matplotlib-tutorial](https://github.com/rougier/matplotlib-tutorial)\n",
    "\n",
    "__Cartopy__ - the Official site: [https://scitools.org.uk/cartopy/docs/latest/](https://scitools.org.uk/cartopy/docs/latest/), and gallery: [https://scitools.org.uk/cartopy/docs/latest/gallery/index.html](https://scitools.org.uk/cartopy/docs/latest/gallery/index.html)\n",
    "\n",
    "R. Abernathey's tutorial to Cartopy - Step by Step and very accessible: [https://rabernat.github.io/research_computing_2018/maps-with-cartopy.html](https://rabernat.github.io/research_computing_2018/maps-with-cartopy.html) \n",
    "\n",
    "__Seaborn__ - We didn't talk about Seaborn, but it is a very nice library for beatiful and well designed functions for statistical data visualization. Make sure you take a look at their gallery: [https://seaborn.pydata.org/index.html](https://seaborn.pydata.org/index.html)\n",
    "\n",
    "__Groupby__ - the offical reference [http://xarray.pydata.org/en/stable/groupby.html](http://xarray.pydata.org/en/stable/groupby.html)\n",
    "\n",
    "The __xarray__ page also have some useful examples for [weather](http://xarray.pydata.org/en/stable/examples/weather-data.html) and [climate](http://xarray.pydata.org/en/stable/examples/monthly-means.html) data that applies the methods (and more) used here.\n"
   ]
  },
  {
   "cell_type": "code",
   "execution_count": null,
   "metadata": {},
   "outputs": [],
   "source": []
  }
 ],
 "metadata": {
  "kernelspec": {
   "display_name": "Python 3",
   "language": "python",
   "name": "python3"
  },
  "language_info": {
   "codemirror_mode": {
    "name": "ipython",
    "version": 3
   },
   "file_extension": ".py",
   "mimetype": "text/x-python",
   "name": "python",
   "nbconvert_exporter": "python",
   "pygments_lexer": "ipython3",
   "version": "3.7.6"
  }
 },
 "nbformat": 4,
 "nbformat_minor": 4
}
