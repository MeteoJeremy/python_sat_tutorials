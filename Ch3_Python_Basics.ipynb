{
 "cells": [
  {
   "cell_type": "markdown",
   "metadata": {},
   "source": [
    "# <font color=#31809f>Chapter 3: Python Basics</font>\n",
    "\n",
    "We will learn Python as we do in the next chapters, particularly the application ones. However, there are basic concepts and features we will need. This chapter is about those basic concepts. You could skip this chapter if you're familiar with Python.\n",
    "\n",
    "This, and following, chapters are fully interactive. <font color=fb9c6c>__Test this__</font> indicators will precede cell to run to test a particular concept, and instructions are given if needed. Further information and instructions will be given in the comments on the cell to run."
   ]
  },
  {
   "cell_type": "markdown",
   "metadata": {},
   "source": [
    "## <font color=#d55121> Modules</font>\n",
    "As mentioned, Python is <font color=#31909f>__Modular__</font>: it has all the libraries *(collection of programs or functions for a specific purpose)* you could possibly need; you do not need to install them all. However, libraries need to be installed and, when coding, imported.\n",
    "\n",
    "To <font color=#31909f>__install__</font> new libraries, conda is the way to go. For these tutorials you won't need to install any, unless you're running them in your local computer. See instructions here.\n",
    "\n",
    "<font color=#31909f>__Importing__</font> libraries into your code is done at the beginning of the code. You could give them a _nickname_ to simplify coding, and you could also import only a function from a particular library if do not want to import the whole thing. A cell with library import commands needs to be run for the libraries to be loaded. <font color=fb9c6c>__Test this running the next cell.__</font>"
   ]
  },
  {
   "cell_type": "code",
   "execution_count": null,
   "metadata": {},
   "outputs": [],
   "source": [
    "# Import modules/libraries\n",
    "import numpy as np  # using a nickname\n",
    "import math  # using the original library name\n",
    "\n",
    "var = [1,2,3,4,5,np.nan] # nan is a void value: Not a number\n",
    "\n",
    "# The function print accept different variables separated by a comma\n",
    "print('Mean value = ', np.mean(var)) \n",
    "print('Mean value, ignoring nan  = ', np.nanmean(var)) \n",
    "\n",
    "# in this example, instead of passing 2 arguments to print, we concatenate two strings, needing to convert the numerical variable pi to string\n",
    "print('At some point, we will need the value of pi='+str(math.pi))"
   ]
  },
  {
   "cell_type": "markdown",
   "metadata": {},
   "source": [
    "## <font color=#d55121> Data Types, Collections & Structures</font>\n",
    "\n",
    "Like other programing languages, `Python` basic data types include integers, floats, complex, and strings & boolean. And variables can be reassigned anytime. \n",
    "\n",
    "Python has a some basic data collections, we will talk about three of them, mostly you can recognize them when you encounter them:¶\n",
    "\n",
    "<font color=#31909f>__List__</font> - ordered, changeable, allows duplicates\n",
    "\n",
    "<font color=#31909f>__Tuple__</font> - ordered, unchangeable, allows duplicates\n",
    "\n",
    "<font color=#31909f>__Dictionary__</font> - unordered, changeable, no duplicates allowed\n",
    "\n",
    "All collections can be contain any type of data, including other collections. \n",
    "\n",
    "<font color=fb9c6c>__Test this:__</font>  In the next cells, we will define variables of each type of collections, modify them and access thei elements. Try them by following the editing instructions and running and reruning the cell. __Make some edits and try running again__.\n"
   ]
  },
  {
   "cell_type": "markdown",
   "metadata": {},
   "source": [
    "## <font color=#184d68>Lists</font>"
   ]
  },
  {
   "cell_type": "code",
   "execution_count": null,
   "metadata": {},
   "outputs": [],
   "source": [
    "mylist=['temperature', 'wind', 'salinity']  # note the use of [ ]\n",
    "print(mylist, '\\n') # add extra line with '\\n'\n",
    "\n",
    "# accessing elements \n",
    "print(mylist[0], '\\n') # note index starts at zero\n",
    "\n",
    "# change an element using an index\n",
    "mylist[1] = 'wind speed'\n",
    "\n",
    "# add an element\n",
    "mylist.append('current')\n",
    "print(mylist)"
   ]
  },
  {
   "cell_type": "markdown",
   "metadata": {},
   "source": [
    "## <font color=#184d68>Tuples</font>\n",
    "\n",
    "We are not going to use these collection type, but some functions return variables of these type, and trying to modify those are a common source of error. It is good to be able to recognize them."
   ]
  },
  {
   "cell_type": "code",
   "execution_count": null,
   "metadata": {},
   "outputs": [],
   "source": [
    "mytuple = ('latitude', 'longitude', 'time')  # note the use of ( )\n",
    "print(mytuple, '\\n')\n",
    "\n",
    "# accessing elements \n",
    "print(mytuple[0], '\\n') # note that to access we also use []\n",
    "\n",
    "# try changing an element using an index ...\n",
    "mytuple[3] = 'depth'"
   ]
  },
  {
   "cell_type": "markdown",
   "metadata": {},
   "source": [
    "Trying to change a tuple will generate an error. Which in `Python`  are very explicit. Scary, but very useful: It will tell you exaclty what the error is (bottom line) and in which line it occurred (right arrow on the left).  \n",
    "\n",
    "<font color=fb9c6c>__Try this:__</font>  Add line number to your code by clickinig on th Top Menu -> View -> Show Line Numbers"
   ]
  },
  {
   "cell_type": "markdown",
   "metadata": {},
   "source": [
    "## <font color=#184d68>Dictionaries</font>\n",
    "\n",
    "Dictorinaries are indexed pairs of keys and values, and we are going to use them in the next chapters. "
   ]
  },
  {
   "cell_type": "code",
   "execution_count": null,
   "metadata": {},
   "outputs": [],
   "source": [
    "mydict = {'instrument': 'temperature sensor', 'measurement':'SST','depth': 5} # note the use of {} and :\n",
    "print(mydict, '\\n')\n",
    "\n",
    "# access an element\n",
    "print(mydict['instrument'], '\\n') # nothe that we also use []\n",
    "\n",
    "# add an element \n",
    "mydict['units'] = 'C' # note the use of [], as it is accessing a (new) element\n",
    "print(mydict)"
   ]
  },
  {
   "cell_type": "markdown",
   "metadata": {},
   "source": [
    "## <font color=#184d68>Data Structures</font>\n",
    "\n",
    "Although `Python` was not originally designed for scientific data, its community-base and free nature allowed for the development of libraries that handle it nicely & efficiently, as we will see in the next chapter. Part of the great deveopments in `Python` are the data structures that can handle scientific data efficiently by:\n",
    "\n",
    "- large amounts of data\n",
    "\n",
    "- multiple dimensions\n",
    "\n",
    "- mathematical and statistical operations over parts or the whole data set\n",
    "\n",
    "- metadata and data attributes\n",
    "\n",
    "These structures are defined in numerical/scientific oriented libraries that we will use in the next chapters (and need to be loaded in our code): <font color=#31909f>numpy, pandas, & xarray</font>.¶\n",
    "\n",
    "Descriptions, documentation and tutorias for this libraries can be found in the __Resources__ section below. We will use them in the next chapters (describing xarray more in detail in the next one), and important features will be noted in the comments. Here we would just describe their data structures. The figure below show different types of data collections and structures.\n",
    "\n",
    "<font color=#31909f>__numpy arrays__</font>: Multi-dimensional numerical arrays. \n",
    "\n",
    "<font color=#31909f>__pandas dataframes__</font>: Data Frames which resemble tables in excel - two dimensional arrays that take different type of data, with labeled rows and columns.\n",
    "\n",
    "<font color=#31909f>__xarray dataarrays__</font>: Datasets that were contain one multiple data arrays that can contain numerical or labeled indices, including coordinates. They follow a netcdf file format, so it can contained metadata and multidimensional grids or time series.\n",
    "\n",
    "## <img src=\"figures/data_structures.png\"/>\n"
   ]
  },
  {
   "cell_type": "markdown",
   "metadata": {},
   "source": [
    "## <font color=#d55121> Basic Python Syntaxis</font>\n",
    "\n",
    "## <font color=#184d68>For Loops</font>\n",
    "\n",
    "`Python` is a positional language. This means that the position of the first character in a line has a meaning. This is illustrated in the next cell, where the operations to execute within a __for loop__ are positioned to 4 spaces to the right. "
   ]
  },
  {
   "cell_type": "code",
   "execution_count": null,
   "metadata": {},
   "outputs": [],
   "source": [
    "somelist = ['a', 'b', 'c', 'd', 'e', 'f', 'g', 'h', 'i','j']\n",
    "for item in somelist: # for loops take any list as arguments, and many objects can be 'read' as list using the function enumerate()\n",
    "    print(item)  \n",
    "print('\\nEnd of loop\\n',somelist) # note that the the position of this line, with no spaces at the beginning, indicates the end of the for loop"
   ]
  },
  {
   "cell_type": "code",
   "execution_count": null,
   "metadata": {},
   "outputs": [],
   "source": [
    "# To iterate over the indices of a list we will use the function range\n",
    "for index in range(0,10,1): # note that by default this function makes a numerical list that starts in zero \n",
    "    # try changing the range to range(10) instead, and also the step from 1 to 2\n",
    "    print(index, somelist[index])\n",
    "\n",
    "print('\\n')\n",
    "\n",
    "#  This is a more complicated way, but sometimes necessary to obtain the indices of a list\n",
    "for index, value in enumerate(somelist): \n",
    "    print(index, value, somelist[index])"
   ]
  },
  {
   "cell_type": "markdown",
   "metadata": {},
   "source": [
    "## <font color=#184d68>Conditional Statements</font> \n",
    "Conditional statements are similar to other programming languages. But pay attention to:\n",
    "- the __:__ after the conditions\n",
    "- the __elif__ for another condition\n",
    "- and that for multiple conditions, each one has to be conclosed by __()__"
   ]
  },
  {
   "cell_type": "code",
   "execution_count": null,
   "metadata": {},
   "outputs": [],
   "source": [
    "lat = 12\n",
    "if (lat <= -23.5) or (lat >= 23.5):\n",
    "    print('extra-tropical')\n",
    "elif lat == 0:\n",
    "    print('equator')\n",
    "else:\n",
    "    print('tropical')"
   ]
  },
  {
   "cell_type": "markdown",
   "metadata": {},
   "source": [
    "One cool feature in `Python` are <font color=#31909f>__comprehensive lists__</font>. This is a simplified line that combines (usually) a for loop with a conditional expression. They simplify code, but as a beginner sometimes it is difficult to construct them or interpret them. We present them here because they are useful, and when asking for help online, many times they are proposed as the solution and it is important to be able to understand them.\n",
    "\n",
    "<font color=fb9c6c>__Try this:__</font>  In the next cell you'll see two ways to do the same piece of code, the second as a comprehensive list."
   ]
  },
  {
   "cell_type": "code",
   "execution_count": null,
   "metadata": {},
   "outputs": [],
   "source": [
    "# explicit for loop and conditional\n",
    "for lat in range(-90,90,10):\n",
    "    if (lat <= -23.5) or (lat >= 23.5):\n",
    "        print('extra-tropical')\n",
    "    else:\n",
    "        print('tropical')\n",
    "        \n",
    "# comprehensive list\n",
    "result=['tropical' if np.abs(lat)<=23.5 else ('extra-tropical') for lat in range(-90,90,10)]\n",
    "\n",
    "result # note that if the last line is a variable by itself, it prints it out"
   ]
  },
  {
   "cell_type": "markdown",
   "metadata": {},
   "source": [
    "## <font color=#184d68>Functions</font>\n",
    "Functions are pieces of codes that it is needed several times within a program, and therefore it is easier to isolate and call everytime is needed, instead of spelling out the code everytime. They make the code cleanear and less prone to errors. <font color=fb9c6c>__Run the next cell__</font> to see an example of a function definition and use."
   ]
  },
  {
   "cell_type": "code",
   "execution_count": null,
   "metadata": {},
   "outputs": [],
   "source": [
    "def my_func(arg1): # note the :\n",
    "    cel = (arg1 - 32) * 5/9\n",
    "    print (arg1,'Farenheit = ', np.round(cel,1) , ' Celsius')\n",
    "    \n",
    "for far in range(0,101,10): # note that because range ends at 100, not at 101. the upper limit is an open limit.\n",
    "    my_func(far)"
   ]
  },
  {
   "cell_type": "markdown",
   "metadata": {},
   "source": [
    "## <font color=#d55121>  Objects, Attributes & Methods</font>\n",
    "\n",
    "`Python` is an object oriented programming language. This means almost everything is an object or instances of a class. Variables are objects, and therefore they have attributes & methods intrinsic to thhe class thhey belong to.\n",
    "\n",
    "<font color=#31909f>__Properties or Attributes__</font> are accessed with __.attribute__ after the object name.\n",
    "\n",
    "<font color=#31909f>__Methods__</font> are functions, and are accessed with __.method(arguments)__ after the object name.\n",
    "\n",
    "<font color=fb9c6c>__Try this:__</font> In the next cell we exemplify the use of an attribute and a method of a particular type of a particular class: __date__, which is an incredibly useful library in `Python` that will be used in following chapters"
   ]
  },
  {
   "cell_type": "code",
   "execution_count": null,
   "metadata": {},
   "outputs": [],
   "source": [
    "from datetime import date # import the date function from the datetime package\n",
    "\n",
    "today = date.today() # create an instance (object or variable) of the class date\n",
    "print(today, '\\n')\n",
    "\n",
    "## Date object attributes are access with a . but not ()\n",
    "print('year = ',today.year, '\\nmonth = ', today.month, '\\nday = ', today.day, '\\n') \n",
    "\n",
    "## Date object methods are accessed with a . and (), sometimes with arguments. The method 'ctime' does not need arguments\n",
    "print(today.ctime()) # access the method date in string format"
   ]
  },
  {
   "cell_type": "markdown",
   "metadata": {},
   "source": [
    "## <font color=#d55121> Resources</font>\n",
    "\n",
    "Python tutorials\n",
    "\n",
    "\n",
    "Time tutorials\n"
   ]
  },
  {
   "cell_type": "code",
   "execution_count": null,
   "metadata": {},
   "outputs": [],
   "source": []
  }
 ],
 "metadata": {
  "kernelspec": {
   "display_name": "Python 3",
   "language": "python",
   "name": "python3"
  },
  "language_info": {
   "codemirror_mode": {
    "name": "ipython",
    "version": 3
   },
   "file_extension": ".py",
   "mimetype": "text/x-python",
   "name": "python",
   "nbconvert_exporter": "python",
   "pygments_lexer": "ipython3",
   "version": "3.7.6"
  }
 },
 "nbformat": 4,
 "nbformat_minor": 4
}
