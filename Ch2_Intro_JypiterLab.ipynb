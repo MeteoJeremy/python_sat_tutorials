{
 "cells": [
  {
   "cell_type": "markdown",
   "metadata": {},
   "source": [
    "# <font color=#31809f>Chapter 2 - Introduction to Jupyter Lab</font>\n",
    "In this tutorial we use JupyterLab, therefore a quick intro is given.  If you know are familiar with JupyterLab you can skip this tutorial.  If you want to learn more, there are some useful resources at the bottom of this page.\n",
    "\n",
    "***"
   ]
  },
  {
   "cell_type": "markdown",
   "metadata": {},
   "source": [
    "## <font color=#d55121>What is JupyterLab? </font><img src='./figures/jupyterlab_logo.png'>\n",
    "\n",
    "<font color=#31909f>__Jupyter__</font> is a project to develop open-source software, and <font color=#31909f>__JupyterLab__</font> is their new web-based and user-friendly interface between Python and the user.  \n",
    "\n",
    "<font color=#31909f>__JupyterLab__</font> is more than interactive coding - meaning you write and execute part of your code and receive immediate response.\n",
    "\n",
    "JupyterLab also allows you to add formated text, equations and figures - this let you keep code, info and results, including figures, neatly organized and visualize it in the same page. \n",
    "\n",
    "$$e^x=\\sum_{i=0}^\\infty \\frac{1}{i!}x^i$$\n",
    "\n",
    "<img src='./figures/JupyterLab_example.png' width=800 align=\"center\">\n",
    "\n",
    "***"
   ]
  },
  {
   "cell_type": "markdown",
   "metadata": {},
   "source": [
    "## <font color=#d55121>JupyterLab Elements</font>\n",
    "<font color=#31909f>__Main window:__</font> your notebook. different open notebooks (files), displayed as tabs on top, a directory and files listed on the <font color=#31909f>__Left side bar__</font>. (Note that JupyterLab Python files have the extension .ipynb)\n",
    "\n",
    "<font color=#31909f>__Top menu:__</font> regular type menu, that contains all commands you need to work on JupyterLab (we'll talk about the relevant ones below\n",
    "\n",
    "<font color=#31909f>__The icon menu__</font> on top of your open notebook. this has quick access to commands\n",
    "\n",
    "<font color=#31909f>__Left Side menu__</font> - that changes the contect of the side panel \n",
    "\n",
    "<img src=\"./figures/JupyterLab_elements.png\" width=800 align=\"center\">\n",
    "\n",
    "***"
   ]
  },
  {
   "cell_type": "markdown",
   "metadata": {},
   "source": [
    "## <font color=#d55121>The Basics</font>\n",
    "\n",
    "### <font color=#184d68>Cells</font>\n",
    "Scripts are divided in cells - code line that are run (execute) as a unit and will return the output or results from your code immediately. they are not independent of the rest (if you assigned or modified values in previous cell, you do have access to those).\n",
    "\n",
    "to run a cell you have few options:\n",
    "- press shift-return (run and move to the next cell) or command-return (run and stay in the current cell) (!!! check for windows)\n",
    "- click the play (>) icon on the top icon menu\n",
    "- go to top menu -> run -> run selected cells\n",
    "\n",
    "The selected cell is highlighted by a thick color side bar, and to edit the cell, you'll need to double click on it and a color outline will appear around the cell. \n",
    "\n",
    "<font color=fb9c6c>__Test this:__</font> Double click to enter the edit mode and then run the cell using of the options above.\n",
    "\n",
    "### <font color=#184d68>Types of cells: code and markdown</font>\n",
    "markdown cells contained formated text, like this cell. \n",
    "code cells contained code to be executed and in many cases return an output, and the text within the cell shows different colors, depending of the function (operation, variable, etc).\n",
    "to change the type of cell:\n",
    "- top icon menu: the last element of this menu is a drop-down menu that shows the type and allows you to change it\n",
    "- press esc and then m (for markdown) or y for (code)\n",
    "\n",
    "Pressing esc allows you access to keyboard commands (they are listed on the side bar when you click on the side menu icon search (show) \n",
    "\n",
    "### <font color=#184d68>Copying-pasting, adding and deleting cells</font>\n",
    "when you run the last cell using shift-return, a new cell is added automoatically bellow, but sometimes we need to add a cell in between cells, or delete one. or make a copy of the current cell. for this, you have two options:\n",
    "- top icon menu: + for adding a cell, scissors to delete,  () to copy and clipbard to paste\n",
    "- keyboard commands: press esc and then: a or b for inserting a cell (above or below), d d to delete a cell, c to copy, x to cut, and p to paste cell below. "
   ]
  },
  {
   "cell_type": "markdown",
   "metadata": {},
   "source": [
    "<font color=fb9c6c>__Test  this:__</font> change the type of this cell and run it to see the difference\n",
    "myvar = 5+6\n",
    "print(myvar)"
   ]
  },
  {
   "cell_type": "markdown",
   "metadata": {},
   "source": [
    "***\n",
    "## <font color=#d55121>Housekeeping</font>\n",
    "### <font color=#184d68>Saving your work</font>\n",
    "If you're workinig on a binder in the cloud you want to save locally any file you modify for further reference. To do so, go to the Top Menu -> File -> Download to make a local copy\n",
    "\n",
    "### <font color=#184d68>The Kernel</font>\n",
    "\n",
    "Sometimes there is need to interrupt a running code or the kernel (the process, individual for each notebook, in that is running your code) freezes. You'll need to restart the kernel (Top menu -> Kernel -> Restart Kernell... ) and then run all the cells again as it deletes all variables in memory.\n",
    "***"
   ]
  },
  {
   "cell_type": "markdown",
   "metadata": {},
   "source": [
    "## <font color=#d55121>Resources</font>\n",
    "Jupyter Lab Documentation [https://jupyterlab.readthedocs.io/en/stable/](https://jupyterlab.readthedocs.io/en/stable/)\n",
    "\n",
    "Home page (Jupyter and Jupyter Lab) [https://jupyter.org/](https://jupyter.org/)\n",
    "\n",
    "A brief tutorial and try-on apps for Jupyter Lab, iPython and R.  [https://jupyter.org/try](https://jupyter.org/try)\n",
    "\n",
    "Visual quick intro to JupyterLab [https://www.youtube.com/watch?v=A5YyoCKxEOU](https://www.youtube.com/watch?v=A5YyoCKxEOU)\n",
    "\n",
    "A full tutorial on JupyterLab: [https://www.youtube.com/watch?v=7wfPqAyYADY](https://www.youtube.com/watch?v=7wfPqAyYADY)"
   ]
  },
  {
   "cell_type": "code",
   "execution_count": null,
   "metadata": {},
   "outputs": [],
   "source": []
  }
 ],
 "metadata": {
  "kernelspec": {
   "display_name": "Python 3",
   "language": "python",
   "name": "python3"
  },
  "language_info": {
   "codemirror_mode": {
    "name": "ipython",
    "version": 3
   },
   "file_extension": ".py",
   "mimetype": "text/x-python",
   "name": "python",
   "nbconvert_exporter": "python",
   "pygments_lexer": "ipython3",
   "version": "3.7.6"
  }
 },
 "nbformat": 4,
 "nbformat_minor": 4
}
