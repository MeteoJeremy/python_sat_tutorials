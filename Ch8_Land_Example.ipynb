{
 "cells": [
  {
   "cell_type": "markdown",
   "metadata": {},
   "source": [
    "# Chapter 8 - Example: Land Data\n",
    "### Changes in vegetation index through the years for a given area\n",
    "\n",
    "In this chapter we don't use data from the cloud, but exemplify how to obtain timeseries data from the initernet and analyze. In hte future (hopefully soon), when data is in the cloud on a similar data format, accessing from the cloud would be similar as in chapter 6.\n",
    "\n",
    "This script reads NDVI (vegetation index) files from a `thredds` server, compile the region and time selected and then analyze the change in vegetation index through time."
   ]
  },
  {
   "cell_type": "code",
   "execution_count": null,
   "metadata": {},
   "outputs": [],
   "source": [
    "# Import libraries\n",
    "import numpy as np\n",
    "import pandas as pd\n",
    "import xarray as xr\n",
    "import os\n",
    "import re\n",
    "from datetime import date\n",
    "import urllib as ur\n",
    "import requests\n",
    "import matplotlib.pyplot as plt \n",
    "import hvplot.pandas\n",
    "import hvplot.xarray\n",
    "xr.set_options(display_style=\"html\")  #display dataset nicely\n",
    "\n",
    "# this library helps to make your code execution less messy\n",
    "import warnings\n",
    "warnings.simplefilter('ignore') # filter some warning messages"
   ]
  },
  {
   "cell_type": "code",
   "execution_count": null,
   "metadata": {},
   "outputs": [],
   "source": [
    "# Set parameters\n",
    "# Select a region \n",
    "lat1, lat2 = 16, 18 # two latitudes, resolution?\n",
    "lon1, lon2 = -98,-96\n",
    "# select a day of year. the script will obtain data for the region for this day each available year\n",
    "mon = 7 # month\n",
    "dy = 31 # day"
   ]
  },
  {
   "cell_type": "markdown",
   "metadata": {},
   "source": [
    "***\n",
    "## Obtaining the data"
   ]
  },
  {
   "cell_type": "code",
   "execution_count": null,
   "metadata": {
    "scrolled": true
   },
   "outputs": [],
   "source": [
    "# find data for chosen day for each year \n",
    "ayrs = [*range(1989,date.today().year)] # data available since 1989. for now it is hard coded\n",
    "iurl = 'https://www.ncei.noaa.gov/thredds/fileServer/' # server link\n",
    "flist = list() # initialization of file list \n",
    "tdt = list() # initialize a list for time\n",
    "\n",
    "# looks for the file for each year\n",
    "for i in ayrs:\n",
    "    r = requests.get('https://www.ncei.noaa.gov/thredds/catalog/cdr/ndvi/files/'+str(i)+'/catalog.html')   # request download the indicated file\n",
    "    x = re.split(\"\\'\",r.text) # search for symbol ' and separate the data (which comes in a html format)\n",
    "    for j in x: # for each year\n",
    "        dtnm = '_'+str(i)+str(mon).zfill(2)+str(dy).zfill(2)+'_' # constuct the file name\n",
    "        if (dtnm in j) & (\"catalog.html?\" in j): # and if not repeated or a information line\n",
    "            flist.append(j) # add the file name to our list"
   ]
  },
  {
   "cell_type": "code",
   "execution_count": null,
   "metadata": {
    "scrolled": true
   },
   "outputs": [],
   "source": [
    "# download each file and select region and time\n",
    "for iy, i in enumerate(flist): \n",
    "    iurl2 = iurl + re.split('=',i)[1] # construct the url for each fille\n",
    "    print(iy,i) # print the file name, just for information\n",
    "    tmp = ur.request.urlretrieve(iurl2, 'tmp.nc') # this is a different request (no s at the end), download a file that has a specific (non-text) format, saves it in a file call tmp.nc\n",
    "    nvi = xr.open_dataset('tmp.nc') # now we can use it as regular local files\n",
    "    nvi.close()\n",
    "    tdt.append(nvi.time.data[0]) # add the date to oourr liest\n",
    "    tmp1 = nvi.NDVI[0,:,:].sel(latitude=slice(lat2,lat1),longitude=slice(lon1,lon2)) # select region from the file data\n",
    "    if iy==0: # if the first year, create an array to sttore data\n",
    "        nvi_dt = np.full((len(flist),tmp1.shape[0],tmp1.shape[1]), np.nan)\n",
    "    nvi_dt[iy,:,:] = tmp1.data # store selected data\n",
    "    os.remove('tmp.nc') # delete file, so we can keep downloading using this name."
   ]
  },
  {
   "cell_type": "code",
   "execution_count": null,
   "metadata": {},
   "outputs": [],
   "source": [
    "# create a xarray Data array structure for easy analysis from the data above\n",
    "ndvi = xr.DataArray(data=nvi_dt, dims=['time','latitude','longitude'], \n",
    "                    coords=dict(time=tdt,latitude=tmp1.latitude.values, longitude=tmp1.longitude.values),attrs=tmp1.attrs) \n",
    "ndvi # taking a peek"
   ]
  },
  {
   "cell_type": "markdown",
   "metadata": {},
   "source": [
    "***\n",
    "## Now, let's do some analysis\n",
    "\n",
    "First we average all years to get a climatological field of the vegetation index."
   ]
  },
  {
   "cell_type": "code",
   "execution_count": null,
   "metadata": {},
   "outputs": [],
   "source": [
    "mean_ndvi = ndvi.mean(axis=0) # we average over the first axis (0), which is time. \n",
    "mean_ndvi.plot(cmap='YlGn') # we change the color map to yellow to green for this particular data set\n",
    "plt.show()"
   ]
  },
  {
   "cell_type": "markdown",
   "metadata": {},
   "source": [
    "Now we calculate the spatial anomaly for a given year by taking the difference."
   ]
  },
  {
   "cell_type": "code",
   "execution_count": null,
   "metadata": {},
   "outputs": [],
   "source": [
    "syr = 2018 # set year\n",
    "(ndvi.sel(time=str(2018)+'-'+str(mon).zfill(2)+'-'+str(dy).zfill(2))-mean_ndvi).plot() # first we constuct the time step index\n",
    "plt.show()"
   ]
  },
  {
   "cell_type": "markdown",
   "metadata": {},
   "source": [
    "## For a time series analyysis, we wnat to average over the latitute and longitude. \n",
    "\n",
    "But let's add a condition. We select only locations when the vegetation index is equal or larger than 0.3 - this means we are looking at the change in vegetation for locations that at the begining have at least 30% vegetation coverage."
   ]
  },
  {
   "cell_type": "code",
   "execution_count": null,
   "metadata": {},
   "outputs": [],
   "source": [
    "\n",
    "veg_mean = list()\n",
    "mask0 = ndvi[0,:,:].where(ndvi[0,:,:]>=0.3) # create a mask for veg. index >= 30% in the first time step\n",
    "veg_area = mask0.count() # count the number of grid points above when the mask is applied\n",
    "for i in range(len(ayrs)): \n",
    "    tmp=ndvi[i,:,:]*mask0 # apply the mask year\n",
    "    veg_mean.append(tmp.mean())\n",
    "\n",
    "plt.bar(ayrs,veg_mean-np.nanmean(veg_mean))\n",
    "plt.title('Vegetation Index Change')\n",
    "plt.ylabel('NDVI')\n",
    "plt.grid(True, alpha=0.3)\n",
    "plt.show()"
   ]
  },
  {
   "cell_type": "markdown",
   "metadata": {},
   "source": [
    "***\n",
    "# Another simple example for when there is a single NetCDF file for all data. \n",
    "### In this case, Surface Temperature from the NASA GISTEMP dataset. Note thatt this file is compressed."
   ]
  },
  {
   "cell_type": "code",
   "execution_count": null,
   "metadata": {},
   "outputs": [],
   "source": [
    "iurl = 'https://data.giss.nasa.gov/pub/gistemp/gistemp250_GHCNv4.nc.gz' # the location of this ffile\n",
    "with open('gisteep.nc.gz', \"wb\") as f: # open a file to download our internet file to\n",
    "    r = requests.get(iurl) # using request again!\n",
    "    f.write(r.content) # write into our final file gistemp.nc.gz. Note that is still compressed.\n",
    "f.close() # close the file so we can use it again.\n",
    "os.system('gunzip gisteep.nc.gz') # easy to uncompress the file using the library os.\n",
    "\n",
    "# Normal xarray analysis now\n",
    "tas = xr.open_dataset('gistmep.nc')\n",
    "tas.tempanomaly.sel(lat=17,lon=-97,time=slice('1980-01-01','2021-08-15')).plot() # plot the surface temperatture anomalies for a given location for the entire period\n",
    "plt.grid()\n",
    "tas"
   ]
  },
  {
   "cell_type": "code",
   "execution_count": null,
   "metadata": {},
   "outputs": [],
   "source": []
  }
 ],
 "metadata": {
  "kernelspec": {
   "display_name": "Python 3",
   "language": "python",
   "name": "python3"
  },
  "language_info": {
   "codemirror_mode": {
    "name": "ipython",
    "version": 3
   },
   "file_extension": ".py",
   "mimetype": "text/x-python",
   "name": "python",
   "nbconvert_exporter": "python",
   "pygments_lexer": "ipython3",
   "version": "3.8.6"
  }
 },
 "nbformat": 4,
 "nbformat_minor": 4
}
